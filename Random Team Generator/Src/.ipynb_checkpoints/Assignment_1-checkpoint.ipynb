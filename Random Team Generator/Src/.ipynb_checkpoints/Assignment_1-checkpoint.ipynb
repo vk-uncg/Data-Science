{
 "cells": [
  {
   "cell_type": "markdown",
   "id": "e247a8b9-17fd-4917-941b-d5f20c9a628e",
   "metadata": {
    "tags": []
   },
   "source": [
    "# Assignment - 1\n",
    "\n",
    "### Random Team Generator\n",
    "\n",
    "A random team generator is created which takes the data of Spring 22 students enrolled in the Data Science course and splits them into teams and displays them.\n",
    "\n",
    "#### Opening the file\n",
    "\n",
    "We use csv reader to open the file. It is opened in read mode which enables us to read the data in the file.\n",
    "\n",
    "#### Removing the first row\n",
    "\n",
    "The first row in the data contains the field names, hence they should be removed in order to split the data into teams. This is done by using sub array indexing starting from 1\n",
    "\n",
    "#### Splitting by tab space\n",
    "\n",
    "The data is split up by its tab space, as the data file is of format .tsv, the contents of the file are seperated by a tab space. This is done by using delimiter.\n",
    "\n",
    "#### random.sample()\n",
    "\n",
    "random.sample() is used to shuffle the items in the list in a random way\n",
    "\n",
    "#### User input\n",
    "\n",
    "We ask the user the required team size\n",
    "\n",
    "#### Team formation\n",
    "\n",
    "We then create random teams based on team size by iterating a for loop with a range of team size\n"
   ]
  },
  {
   "cell_type": "code",
   "execution_count": 20,
   "id": "3b1ad5df",
   "metadata": {},
   "outputs": [
    {
     "name": "stdin",
     "output_type": "stream",
     "text": [
      "Number of teams required:  11\n"
     ]
    },
    {
     "data": {
      "text/plain": [
       "[[['Kasula, Sahaj', '3920808829343271099'],\n",
       "  ['Reminisetty, Sai Naga Pavani', '1591685606807352508'],\n",
       "  ['Hayes, Kevin', '1339408132756941989'],\n",
       "  ['Sarkar, Reetika', '8643242298665096034'],\n",
       "  ['Nukala, Tanmayee', '-1525574646263817008']],\n",
       " [['Veeramaneni, Varsha', '-6644442737343541771'],\n",
       "  ['Turmenne, Dominic', '8125580341883296944'],\n",
       "  ['Serratos Prudencio, Francisco', '-2462509233739110775'],\n",
       "  ['Luo, Jacky', '6709415157623490936']],\n",
       " [['Darandale, Aditi', '7208842126573094853'],\n",
       "  ['Tadikonda, Saipavan', '869885833329840789'],\n",
       "  ['Gabbula, Sai Ram Ajay Krishna', '8152531025298062743'],\n",
       "  ['Budavi, Priyanka', '8649594668534127648']],\n",
       " [['Gonzalez, Franque', '-730044730185823083'],\n",
       "  ['Blankson, Daniel', '-8968872549789180149'],\n",
       "  ['Proctor, Alyiah', '3671600931463625562'],\n",
       "  ['Nayal, Meghna', '-3470105812940901766']],\n",
       " [['Gabbula, Venkata Vijay Krishna', '1151979053453793459'],\n",
       "  ['Littlejohn, Jesea', '7203332082110553252'],\n",
       "  ['Yadav, Aryan', '-4087399839370729222'],\n",
       "  ['Aditham, Manideep', '2748218694791991120']],\n",
       " [['Bhatt, Pratik Ashish', '-2970699835927101998'],\n",
       "  ['Arasikere Rakesh, Raveena', '2268593958250897116'],\n",
       "  ['Bhimineni, Lokesh', '362408483941604790'],\n",
       "  ['Bonfield, Sage', '-6504927969497061295']],\n",
       " [['Khant, Naitik Nilesh', '-965756823075472977'],\n",
       "  ['Nguyen, Anne', '-1723188875694226164'],\n",
       "  ['Chilakuri, Lahari', '-1979813415920304142'],\n",
       "  ['Edamadaka, Vamshi Krishna', '892661543899331206']],\n",
       " [['Konka, Sri Vyshnavi', '9104511449264629905'],\n",
       "  ['Terrell, Jerry', '-4455125766486173996'],\n",
       "  ['Gummadi, Venkat', '5604102690916584116'],\n",
       "  ['Nayal, Yamini', '9103315745626399993']],\n",
       " [['Ganti, Vrinda Prabhakaram', '6421234007558707556'],\n",
       "  ['Killworth, Kyle', '-8848445668263649238'],\n",
       "  ['Whitfield, Logan', '-6061069211117658187'],\n",
       "  ['Gadireddy, Pavithra', '-8192697761711052655']],\n",
       " [['Erram, Viveka', '-1290993697682729798'],\n",
       "  ['Shah, Manish', '-3589171692494337814'],\n",
       "  ['Carter, Jesse', '-3206211230938166746'],\n",
       "  ['Thummalapally, Akhil Reddy', '-2176125765953617954']],\n",
       " [['Dey, Amitabha', '-3886376931052097666'],\n",
       "  ['Vidapu, Aman Tej', '-2035093325430431991'],\n",
       "  ['Kallem, Snehith', '5525470488191116272'],\n",
       "  ['Alavala, Kushal', '7949742603085756203']]]"
      ]
     },
     "execution_count": 20,
     "metadata": {},
     "output_type": "execute_result"
    }
   ],
   "source": [
    "#importing random and csv\n",
    "import random\n",
    "import csv\n",
    "\n",
    "#opening data file, removing the first row, seperating by tab space and storing the data in a list\n",
    "input_list = list(csv.reader(open(\"../data/spring-22-students.tsv\", 'r').read().splitlines()[1:], delimiter = \"\\t\"))\n",
    "\n",
    "#randomizing the data using random.sample()\n",
    "random_file=random.sample(input_list,len(input_list))\n",
    "\n",
    "#User input for team size\n",
    "team_size = int(input(\"Number of teams required: \"))\n",
    "\n",
    "#splitting the list into required number of teams\n",
    "[random_file[x::team_size] for x in range(team_size)]\n",
    "\n"
   ]
  },
  {
   "cell_type": "markdown",
   "id": "14fd7120-2cf8-4085-a569-d7aac53edfbd",
   "metadata": {
    "tags": []
   },
   "source": [
    "##### "
   ]
  },
  {
   "cell_type": "code",
   "execution_count": null,
   "id": "5ca694bc-b2f7-4400-96d1-b195351d7fa5",
   "metadata": {},
   "outputs": [],
   "source": []
  }
 ],
 "metadata": {
  "kernelspec": {
   "display_name": "Python 3 (ipykernel)",
   "language": "python",
   "name": "python3"
  },
  "language_info": {
   "codemirror_mode": {
    "name": "ipython",
    "version": 3
   },
   "file_extension": ".py",
   "mimetype": "text/x-python",
   "name": "python",
   "nbconvert_exporter": "python",
   "pygments_lexer": "ipython3",
   "version": "3.10.0"
  }
 },
 "nbformat": 4,
 "nbformat_minor": 5
}
