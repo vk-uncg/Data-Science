{
 "cells": [
  {
   "cell_type": "markdown",
   "id": "933e05ba-99e6-4c9e-9c63-c07a908d3f7a",
   "metadata": {},
   "source": [
    "# Exploratory Data Analysis"
   ]
  },
  {
   "cell_type": "code",
   "execution_count": 33,
   "id": "e53d5a7b-d2bf-437f-887e-3a03db35cfe9",
   "metadata": {},
   "outputs": [],
   "source": [
    "import numpy as np\n",
    "import pandas as pd\n",
    "import matplotlib.pyplot as plt\n",
    "import seaborn as sb\n",
    "from sklearn.tree import DecisionTreeClassifier, plot_tree"
   ]
  },
  {
   "cell_type": "code",
   "execution_count": 34,
   "id": "bea2eb2d-fb7a-4edf-bacd-9c72b41c8edc",
   "metadata": {},
   "outputs": [
    {
     "data": {
      "text/html": [
       "<div>\n",
       "<style scoped>\n",
       "    .dataframe tbody tr th:only-of-type {\n",
       "        vertical-align: middle;\n",
       "    }\n",
       "\n",
       "    .dataframe tbody tr th {\n",
       "        vertical-align: top;\n",
       "    }\n",
       "\n",
       "    .dataframe thead th {\n",
       "        text-align: right;\n",
       "    }\n",
       "</style>\n",
       "<table border=\"1\" class=\"dataframe\">\n",
       "  <thead>\n",
       "    <tr style=\"text-align: right;\">\n",
       "      <th></th>\n",
       "      <th>A1</th>\n",
       "      <th>A2</th>\n",
       "      <th>A3</th>\n",
       "      <th>A4</th>\n",
       "      <th>A5</th>\n",
       "      <th>A6</th>\n",
       "      <th>A7</th>\n",
       "      <th>A8</th>\n",
       "      <th>A9</th>\n",
       "      <th>A10</th>\n",
       "      <th>...</th>\n",
       "      <th>A22</th>\n",
       "      <th>A23</th>\n",
       "      <th>A24</th>\n",
       "      <th>A25</th>\n",
       "      <th>A26</th>\n",
       "      <th>A27</th>\n",
       "      <th>A28</th>\n",
       "      <th>A29</th>\n",
       "      <th>A30</th>\n",
       "      <th>default</th>\n",
       "    </tr>\n",
       "  </thead>\n",
       "  <tbody>\n",
       "    <tr>\n",
       "      <th>0</th>\n",
       "      <td>10.69</td>\n",
       "      <td>86.10</td>\n",
       "      <td>8920.16</td>\n",
       "      <td>19912.85</td>\n",
       "      <td>30.42</td>\n",
       "      <td>31.72</td>\n",
       "      <td>1.18</td>\n",
       "      <td>145.41</td>\n",
       "      <td>2.236</td>\n",
       "      <td>1.786</td>\n",
       "      <td>...</td>\n",
       "      <td>0.01</td>\n",
       "      <td>0.01</td>\n",
       "      <td>0.01</td>\n",
       "      <td>0.13</td>\n",
       "      <td>0.00</td>\n",
       "      <td>0.00</td>\n",
       "      <td>0.00</td>\n",
       "      <td>0.00</td>\n",
       "      <td>0.00</td>\n",
       "      <td>0</td>\n",
       "    </tr>\n",
       "    <tr>\n",
       "      <th>1</th>\n",
       "      <td>28.50</td>\n",
       "      <td>65.19</td>\n",
       "      <td>6564.00</td>\n",
       "      <td>6716.67</td>\n",
       "      <td>32.50</td>\n",
       "      <td>23.40</td>\n",
       "      <td>2.74</td>\n",
       "      <td>91.11</td>\n",
       "      <td>1.000</td>\n",
       "      <td>1.000</td>\n",
       "      <td>...</td>\n",
       "      <td>0.06</td>\n",
       "      <td>0.01</td>\n",
       "      <td>0.00</td>\n",
       "      <td>0.09</td>\n",
       "      <td>285.80</td>\n",
       "      <td>0.00</td>\n",
       "      <td>16.44</td>\n",
       "      <td>1.98</td>\n",
       "      <td>42.26</td>\n",
       "      <td>0</td>\n",
       "    </tr>\n",
       "    <tr>\n",
       "      <th>2</th>\n",
       "      <td>24.87</td>\n",
       "      <td>73.79</td>\n",
       "      <td>4285.47</td>\n",
       "      <td>6463.75</td>\n",
       "      <td>40.50</td>\n",
       "      <td>51.53</td>\n",
       "      <td>2.84</td>\n",
       "      <td>93.90</td>\n",
       "      <td>2.400</td>\n",
       "      <td>1.400</td>\n",
       "      <td>...</td>\n",
       "      <td>0.08</td>\n",
       "      <td>0.02</td>\n",
       "      <td>0.02</td>\n",
       "      <td>0.44</td>\n",
       "      <td>494.62</td>\n",
       "      <td>135.41</td>\n",
       "      <td>127.45</td>\n",
       "      <td>46.00</td>\n",
       "      <td>14.92</td>\n",
       "      <td>0</td>\n",
       "    </tr>\n",
       "    <tr>\n",
       "      <th>3</th>\n",
       "      <td>13.64</td>\n",
       "      <td>85.82</td>\n",
       "      <td>6887.56</td>\n",
       "      <td>9244.44</td>\n",
       "      <td>49.56</td>\n",
       "      <td>53.44</td>\n",
       "      <td>0.36</td>\n",
       "      <td>171.45</td>\n",
       "      <td>1.875</td>\n",
       "      <td>2.167</td>\n",
       "      <td>...</td>\n",
       "      <td>0.03</td>\n",
       "      <td>0.01</td>\n",
       "      <td>0.00</td>\n",
       "      <td>0.05</td>\n",
       "      <td>1015.19</td>\n",
       "      <td>0.00</td>\n",
       "      <td>210.63</td>\n",
       "      <td>92.58</td>\n",
       "      <td>0.00</td>\n",
       "      <td>0</td>\n",
       "    </tr>\n",
       "    <tr>\n",
       "      <th>4</th>\n",
       "      <td>4.50</td>\n",
       "      <td>95.92</td>\n",
       "      <td>8746.50</td>\n",
       "      <td>19987.50</td>\n",
       "      <td>32.75</td>\n",
       "      <td>37.88</td>\n",
       "      <td>0.92</td>\n",
       "      <td>153.25</td>\n",
       "      <td>2.000</td>\n",
       "      <td>1.500</td>\n",
       "      <td>...</td>\n",
       "      <td>0.01</td>\n",
       "      <td>0.00</td>\n",
       "      <td>0.00</td>\n",
       "      <td>0.04</td>\n",
       "      <td>0.00</td>\n",
       "      <td>106.41</td>\n",
       "      <td>79.00</td>\n",
       "      <td>0.00</td>\n",
       "      <td>0.00</td>\n",
       "      <td>0</td>\n",
       "    </tr>\n",
       "    <tr>\n",
       "      <th>...</th>\n",
       "      <td>...</td>\n",
       "      <td>...</td>\n",
       "      <td>...</td>\n",
       "      <td>...</td>\n",
       "      <td>...</td>\n",
       "      <td>...</td>\n",
       "      <td>...</td>\n",
       "      <td>...</td>\n",
       "      <td>...</td>\n",
       "      <td>...</td>\n",
       "      <td>...</td>\n",
       "      <td>...</td>\n",
       "      <td>...</td>\n",
       "      <td>...</td>\n",
       "      <td>...</td>\n",
       "      <td>...</td>\n",
       "      <td>...</td>\n",
       "      <td>...</td>\n",
       "      <td>...</td>\n",
       "      <td>...</td>\n",
       "      <td>...</td>\n",
       "    </tr>\n",
       "    <tr>\n",
       "      <th>93995</th>\n",
       "      <td>8.18</td>\n",
       "      <td>92.55</td>\n",
       "      <td>4305.29</td>\n",
       "      <td>5420.00</td>\n",
       "      <td>30.60</td>\n",
       "      <td>34.43</td>\n",
       "      <td>0.73</td>\n",
       "      <td>76.67</td>\n",
       "      <td>0.000</td>\n",
       "      <td>0.000</td>\n",
       "      <td>...</td>\n",
       "      <td>0.20</td>\n",
       "      <td>0.04</td>\n",
       "      <td>0.04</td>\n",
       "      <td>0.04</td>\n",
       "      <td>0.00</td>\n",
       "      <td>0.00</td>\n",
       "      <td>0.00</td>\n",
       "      <td>0.00</td>\n",
       "      <td>0.00</td>\n",
       "      <td>1</td>\n",
       "    </tr>\n",
       "    <tr>\n",
       "      <th>93996</th>\n",
       "      <td>13.22</td>\n",
       "      <td>84.14</td>\n",
       "      <td>7614.67</td>\n",
       "      <td>14460.69</td>\n",
       "      <td>32.74</td>\n",
       "      <td>34.75</td>\n",
       "      <td>1.85</td>\n",
       "      <td>117.22</td>\n",
       "      <td>2.287</td>\n",
       "      <td>1.852</td>\n",
       "      <td>...</td>\n",
       "      <td>0.07</td>\n",
       "      <td>0.01</td>\n",
       "      <td>0.01</td>\n",
       "      <td>0.28</td>\n",
       "      <td>221.97</td>\n",
       "      <td>0.00</td>\n",
       "      <td>9.93</td>\n",
       "      <td>15.87</td>\n",
       "      <td>63.74</td>\n",
       "      <td>1</td>\n",
       "    </tr>\n",
       "    <tr>\n",
       "      <th>93997</th>\n",
       "      <td>14.91</td>\n",
       "      <td>85.36</td>\n",
       "      <td>4628.71</td>\n",
       "      <td>6070.00</td>\n",
       "      <td>31.30</td>\n",
       "      <td>39.43</td>\n",
       "      <td>2.09</td>\n",
       "      <td>135.70</td>\n",
       "      <td>3.000</td>\n",
       "      <td>2.000</td>\n",
       "      <td>...</td>\n",
       "      <td>0.44</td>\n",
       "      <td>0.06</td>\n",
       "      <td>0.04</td>\n",
       "      <td>0.23</td>\n",
       "      <td>468.81</td>\n",
       "      <td>265.85</td>\n",
       "      <td>44.89</td>\n",
       "      <td>12.76</td>\n",
       "      <td>52.39</td>\n",
       "      <td>1</td>\n",
       "    </tr>\n",
       "    <tr>\n",
       "      <th>93998</th>\n",
       "      <td>10.77</td>\n",
       "      <td>85.94</td>\n",
       "      <td>8540.43</td>\n",
       "      <td>19452.79</td>\n",
       "      <td>29.92</td>\n",
       "      <td>30.77</td>\n",
       "      <td>1.24</td>\n",
       "      <td>147.39</td>\n",
       "      <td>2.013</td>\n",
       "      <td>1.392</td>\n",
       "      <td>...</td>\n",
       "      <td>0.13</td>\n",
       "      <td>0.01</td>\n",
       "      <td>0.02</td>\n",
       "      <td>0.10</td>\n",
       "      <td>83.90</td>\n",
       "      <td>1034.35</td>\n",
       "      <td>281.25</td>\n",
       "      <td>53.10</td>\n",
       "      <td>0.00</td>\n",
       "      <td>1</td>\n",
       "    </tr>\n",
       "    <tr>\n",
       "      <th>93999</th>\n",
       "      <td>23.47</td>\n",
       "      <td>78.27</td>\n",
       "      <td>3672.42</td>\n",
       "      <td>5800.87</td>\n",
       "      <td>42.67</td>\n",
       "      <td>44.00</td>\n",
       "      <td>2.42</td>\n",
       "      <td>78.69</td>\n",
       "      <td>0.833</td>\n",
       "      <td>0.833</td>\n",
       "      <td>...</td>\n",
       "      <td>0.09</td>\n",
       "      <td>0.02</td>\n",
       "      <td>0.02</td>\n",
       "      <td>0.39</td>\n",
       "      <td>126.60</td>\n",
       "      <td>70.28</td>\n",
       "      <td>5.41</td>\n",
       "      <td>8.80</td>\n",
       "      <td>50.24</td>\n",
       "      <td>1</td>\n",
       "    </tr>\n",
       "  </tbody>\n",
       "</table>\n",
       "<p>94000 rows × 31 columns</p>\n",
       "</div>"
      ],
      "text/plain": [
       "          A1     A2       A3        A4     A5     A6    A7      A8     A9  \\\n",
       "0      10.69  86.10  8920.16  19912.85  30.42  31.72  1.18  145.41  2.236   \n",
       "1      28.50  65.19  6564.00   6716.67  32.50  23.40  2.74   91.11  1.000   \n",
       "2      24.87  73.79  4285.47   6463.75  40.50  51.53  2.84   93.90  2.400   \n",
       "3      13.64  85.82  6887.56   9244.44  49.56  53.44  0.36  171.45  1.875   \n",
       "4       4.50  95.92  8746.50  19987.50  32.75  37.88  0.92  153.25  2.000   \n",
       "...      ...    ...      ...       ...    ...    ...   ...     ...    ...   \n",
       "93995   8.18  92.55  4305.29   5420.00  30.60  34.43  0.73   76.67  0.000   \n",
       "93996  13.22  84.14  7614.67  14460.69  32.74  34.75  1.85  117.22  2.287   \n",
       "93997  14.91  85.36  4628.71   6070.00  31.30  39.43  2.09  135.70  3.000   \n",
       "93998  10.77  85.94  8540.43  19452.79  29.92  30.77  1.24  147.39  2.013   \n",
       "93999  23.47  78.27  3672.42   5800.87  42.67  44.00  2.42   78.69  0.833   \n",
       "\n",
       "         A10  ...   A22   A23   A24   A25      A26      A27     A28    A29  \\\n",
       "0      1.786  ...  0.01  0.01  0.01  0.13     0.00     0.00    0.00   0.00   \n",
       "1      1.000  ...  0.06  0.01  0.00  0.09   285.80     0.00   16.44   1.98   \n",
       "2      1.400  ...  0.08  0.02  0.02  0.44   494.62   135.41  127.45  46.00   \n",
       "3      2.167  ...  0.03  0.01  0.00  0.05  1015.19     0.00  210.63  92.58   \n",
       "4      1.500  ...  0.01  0.00  0.00  0.04     0.00   106.41   79.00   0.00   \n",
       "...      ...  ...   ...   ...   ...   ...      ...      ...     ...    ...   \n",
       "93995  0.000  ...  0.20  0.04  0.04  0.04     0.00     0.00    0.00   0.00   \n",
       "93996  1.852  ...  0.07  0.01  0.01  0.28   221.97     0.00    9.93  15.87   \n",
       "93997  2.000  ...  0.44  0.06  0.04  0.23   468.81   265.85   44.89  12.76   \n",
       "93998  1.392  ...  0.13  0.01  0.02  0.10    83.90  1034.35  281.25  53.10   \n",
       "93999  0.833  ...  0.09  0.02  0.02  0.39   126.60    70.28    5.41   8.80   \n",
       "\n",
       "         A30  default  \n",
       "0       0.00        0  \n",
       "1      42.26        0  \n",
       "2      14.92        0  \n",
       "3       0.00        0  \n",
       "4       0.00        0  \n",
       "...      ...      ...  \n",
       "93995   0.00        1  \n",
       "93996  63.74        1  \n",
       "93997  52.39        1  \n",
       "93998   0.00        1  \n",
       "93999  50.24        1  \n",
       "\n",
       "[94000 rows x 31 columns]"
      ]
     },
     "execution_count": 34,
     "metadata": {},
     "output_type": "execute_result"
    }
   ],
   "source": [
    "model = pd.read_csv(\"../data/input/model.csv\")\n",
    "model"
   ]
  },
  {
   "cell_type": "code",
   "execution_count": 35,
   "id": "77b6bf74-3494-4b11-92a5-a82794461856",
   "metadata": {},
   "outputs": [],
   "source": [
    "col_names = model.columns"
   ]
  },
  {
   "cell_type": "code",
   "execution_count": 36,
   "id": "da313b07-c59e-450f-97d7-818a556235d7",
   "metadata": {},
   "outputs": [
    {
     "data": {
      "text/html": [
       "<div>\n",
       "<style scoped>\n",
       "    .dataframe tbody tr th:only-of-type {\n",
       "        vertical-align: middle;\n",
       "    }\n",
       "\n",
       "    .dataframe tbody tr th {\n",
       "        vertical-align: top;\n",
       "    }\n",
       "\n",
       "    .dataframe thead th {\n",
       "        text-align: right;\n",
       "    }\n",
       "</style>\n",
       "<table border=\"1\" class=\"dataframe\">\n",
       "  <thead>\n",
       "    <tr style=\"text-align: right;\">\n",
       "      <th></th>\n",
       "      <th>A1</th>\n",
       "      <th>A2</th>\n",
       "      <th>A3</th>\n",
       "      <th>A4</th>\n",
       "      <th>A5</th>\n",
       "      <th>A6</th>\n",
       "      <th>A7</th>\n",
       "      <th>A8</th>\n",
       "      <th>A9</th>\n",
       "      <th>A10</th>\n",
       "      <th>...</th>\n",
       "      <th>A22</th>\n",
       "      <th>A23</th>\n",
       "      <th>A24</th>\n",
       "      <th>A25</th>\n",
       "      <th>A26</th>\n",
       "      <th>A27</th>\n",
       "      <th>A28</th>\n",
       "      <th>A29</th>\n",
       "      <th>A30</th>\n",
       "      <th>default</th>\n",
       "    </tr>\n",
       "  </thead>\n",
       "  <tbody>\n",
       "    <tr>\n",
       "      <th>count</th>\n",
       "      <td>94000.000000</td>\n",
       "      <td>94000.000000</td>\n",
       "      <td>94000.000000</td>\n",
       "      <td>94000.000000</td>\n",
       "      <td>94000.000000</td>\n",
       "      <td>94000.000000</td>\n",
       "      <td>94000.000000</td>\n",
       "      <td>94000.000000</td>\n",
       "      <td>94000.000000</td>\n",
       "      <td>94000.000000</td>\n",
       "      <td>...</td>\n",
       "      <td>94000.000000</td>\n",
       "      <td>94000.000000</td>\n",
       "      <td>94000.000000</td>\n",
       "      <td>94000.000000</td>\n",
       "      <td>94000.000000</td>\n",
       "      <td>94000.000000</td>\n",
       "      <td>94000.000000</td>\n",
       "      <td>94000.000000</td>\n",
       "      <td>94000.000000</td>\n",
       "      <td>94000.000000</td>\n",
       "    </tr>\n",
       "    <tr>\n",
       "      <th>mean</th>\n",
       "      <td>12.134211</td>\n",
       "      <td>83.838361</td>\n",
       "      <td>7319.620881</td>\n",
       "      <td>13449.501569</td>\n",
       "      <td>33.507640</td>\n",
       "      <td>36.983300</td>\n",
       "      <td>1.518232</td>\n",
       "      <td>124.108845</td>\n",
       "      <td>1.697824</td>\n",
       "      <td>1.407075</td>\n",
       "      <td>...</td>\n",
       "      <td>0.074435</td>\n",
       "      <td>0.008550</td>\n",
       "      <td>0.013537</td>\n",
       "      <td>0.133531</td>\n",
       "      <td>290.756534</td>\n",
       "      <td>357.976444</td>\n",
       "      <td>103.482568</td>\n",
       "      <td>28.847016</td>\n",
       "      <td>38.509910</td>\n",
       "      <td>0.042553</td>\n",
       "    </tr>\n",
       "    <tr>\n",
       "      <th>std</th>\n",
       "      <td>6.587858</td>\n",
       "      <td>8.672843</td>\n",
       "      <td>2652.539364</td>\n",
       "      <td>8197.452662</td>\n",
       "      <td>11.906865</td>\n",
       "      <td>14.209314</td>\n",
       "      <td>1.007398</td>\n",
       "      <td>33.130292</td>\n",
       "      <td>0.776810</td>\n",
       "      <td>0.652138</td>\n",
       "      <td>...</td>\n",
       "      <td>0.138356</td>\n",
       "      <td>0.020052</td>\n",
       "      <td>0.029078</td>\n",
       "      <td>0.156658</td>\n",
       "      <td>471.958770</td>\n",
       "      <td>597.594147</td>\n",
       "      <td>136.248095</td>\n",
       "      <td>62.759062</td>\n",
       "      <td>90.882963</td>\n",
       "      <td>0.201849</td>\n",
       "    </tr>\n",
       "    <tr>\n",
       "      <th>min</th>\n",
       "      <td>0.000000</td>\n",
       "      <td>20.750000</td>\n",
       "      <td>0.000000</td>\n",
       "      <td>0.000000</td>\n",
       "      <td>0.000000</td>\n",
       "      <td>0.000000</td>\n",
       "      <td>0.000000</td>\n",
       "      <td>0.000000</td>\n",
       "      <td>0.000000</td>\n",
       "      <td>0.000000</td>\n",
       "      <td>...</td>\n",
       "      <td>-0.010000</td>\n",
       "      <td>-0.020000</td>\n",
       "      <td>-0.020000</td>\n",
       "      <td>0.000000</td>\n",
       "      <td>-751.260000</td>\n",
       "      <td>-405.370000</td>\n",
       "      <td>-616.230000</td>\n",
       "      <td>-490.160000</td>\n",
       "      <td>-719.720000</td>\n",
       "      <td>0.000000</td>\n",
       "    </tr>\n",
       "    <tr>\n",
       "      <th>25%</th>\n",
       "      <td>7.670000</td>\n",
       "      <td>79.000000</td>\n",
       "      <td>5618.627500</td>\n",
       "      <td>8700.000000</td>\n",
       "      <td>26.880000</td>\n",
       "      <td>28.780000</td>\n",
       "      <td>0.820000</td>\n",
       "      <td>103.027500</td>\n",
       "      <td>1.272000</td>\n",
       "      <td>1.000000</td>\n",
       "      <td>...</td>\n",
       "      <td>0.010000</td>\n",
       "      <td>0.000000</td>\n",
       "      <td>0.000000</td>\n",
       "      <td>0.060000</td>\n",
       "      <td>0.000000</td>\n",
       "      <td>0.000000</td>\n",
       "      <td>14.970000</td>\n",
       "      <td>0.000000</td>\n",
       "      <td>0.000000</td>\n",
       "      <td>0.000000</td>\n",
       "    </tr>\n",
       "    <tr>\n",
       "      <th>50%</th>\n",
       "      <td>12.020000</td>\n",
       "      <td>84.360000</td>\n",
       "      <td>7285.590000</td>\n",
       "      <td>11862.650000</td>\n",
       "      <td>32.770000</td>\n",
       "      <td>35.940000</td>\n",
       "      <td>1.420000</td>\n",
       "      <td>127.240000</td>\n",
       "      <td>1.667000</td>\n",
       "      <td>1.399000</td>\n",
       "      <td>...</td>\n",
       "      <td>0.030000</td>\n",
       "      <td>0.000000</td>\n",
       "      <td>0.010000</td>\n",
       "      <td>0.090000</td>\n",
       "      <td>115.140000</td>\n",
       "      <td>102.265000</td>\n",
       "      <td>59.350000</td>\n",
       "      <td>10.500000</td>\n",
       "      <td>0.000000</td>\n",
       "      <td>0.000000</td>\n",
       "    </tr>\n",
       "    <tr>\n",
       "      <th>75%</th>\n",
       "      <td>16.080000</td>\n",
       "      <td>89.670000</td>\n",
       "      <td>8780.870000</td>\n",
       "      <td>15896.575000</td>\n",
       "      <td>39.100000</td>\n",
       "      <td>43.830000</td>\n",
       "      <td>2.020000</td>\n",
       "      <td>143.100000</td>\n",
       "      <td>2.064000</td>\n",
       "      <td>1.714000</td>\n",
       "      <td>...</td>\n",
       "      <td>0.080000</td>\n",
       "      <td>0.010000</td>\n",
       "      <td>0.010000</td>\n",
       "      <td>0.140000</td>\n",
       "      <td>380.142500</td>\n",
       "      <td>485.880000</td>\n",
       "      <td>140.952500</td>\n",
       "      <td>34.860000</td>\n",
       "      <td>49.862500</td>\n",
       "      <td>0.000000</td>\n",
       "    </tr>\n",
       "    <tr>\n",
       "      <th>max</th>\n",
       "      <td>62.710000</td>\n",
       "      <td>100.000000</td>\n",
       "      <td>26333.500000</td>\n",
       "      <td>170300.000000</td>\n",
       "      <td>146.000000</td>\n",
       "      <td>146.000000</td>\n",
       "      <td>18.670000</td>\n",
       "      <td>524.000000</td>\n",
       "      <td>44.000000</td>\n",
       "      <td>44.000000</td>\n",
       "      <td>...</td>\n",
       "      <td>5.300000</td>\n",
       "      <td>0.700000</td>\n",
       "      <td>1.690000</td>\n",
       "      <td>4.080000</td>\n",
       "      <td>15288.660000</td>\n",
       "      <td>19503.760000</td>\n",
       "      <td>3265.980000</td>\n",
       "      <td>6561.930000</td>\n",
       "      <td>13487.000000</td>\n",
       "      <td>1.000000</td>\n",
       "    </tr>\n",
       "  </tbody>\n",
       "</table>\n",
       "<p>8 rows × 31 columns</p>\n",
       "</div>"
      ],
      "text/plain": [
       "                 A1            A2            A3             A4            A5  \\\n",
       "count  94000.000000  94000.000000  94000.000000   94000.000000  94000.000000   \n",
       "mean      12.134211     83.838361   7319.620881   13449.501569     33.507640   \n",
       "std        6.587858      8.672843   2652.539364    8197.452662     11.906865   \n",
       "min        0.000000     20.750000      0.000000       0.000000      0.000000   \n",
       "25%        7.670000     79.000000   5618.627500    8700.000000     26.880000   \n",
       "50%       12.020000     84.360000   7285.590000   11862.650000     32.770000   \n",
       "75%       16.080000     89.670000   8780.870000   15896.575000     39.100000   \n",
       "max       62.710000    100.000000  26333.500000  170300.000000    146.000000   \n",
       "\n",
       "                 A6            A7            A8            A9           A10  \\\n",
       "count  94000.000000  94000.000000  94000.000000  94000.000000  94000.000000   \n",
       "mean      36.983300      1.518232    124.108845      1.697824      1.407075   \n",
       "std       14.209314      1.007398     33.130292      0.776810      0.652138   \n",
       "min        0.000000      0.000000      0.000000      0.000000      0.000000   \n",
       "25%       28.780000      0.820000    103.027500      1.272000      1.000000   \n",
       "50%       35.940000      1.420000    127.240000      1.667000      1.399000   \n",
       "75%       43.830000      2.020000    143.100000      2.064000      1.714000   \n",
       "max      146.000000     18.670000    524.000000     44.000000     44.000000   \n",
       "\n",
       "       ...           A22           A23           A24           A25  \\\n",
       "count  ...  94000.000000  94000.000000  94000.000000  94000.000000   \n",
       "mean   ...      0.074435      0.008550      0.013537      0.133531   \n",
       "std    ...      0.138356      0.020052      0.029078      0.156658   \n",
       "min    ...     -0.010000     -0.020000     -0.020000      0.000000   \n",
       "25%    ...      0.010000      0.000000      0.000000      0.060000   \n",
       "50%    ...      0.030000      0.000000      0.010000      0.090000   \n",
       "75%    ...      0.080000      0.010000      0.010000      0.140000   \n",
       "max    ...      5.300000      0.700000      1.690000      4.080000   \n",
       "\n",
       "                A26           A27           A28           A29           A30  \\\n",
       "count  94000.000000  94000.000000  94000.000000  94000.000000  94000.000000   \n",
       "mean     290.756534    357.976444    103.482568     28.847016     38.509910   \n",
       "std      471.958770    597.594147    136.248095     62.759062     90.882963   \n",
       "min     -751.260000   -405.370000   -616.230000   -490.160000   -719.720000   \n",
       "25%        0.000000      0.000000     14.970000      0.000000      0.000000   \n",
       "50%      115.140000    102.265000     59.350000     10.500000      0.000000   \n",
       "75%      380.142500    485.880000    140.952500     34.860000     49.862500   \n",
       "max    15288.660000  19503.760000   3265.980000   6561.930000  13487.000000   \n",
       "\n",
       "            default  \n",
       "count  94000.000000  \n",
       "mean       0.042553  \n",
       "std        0.201849  \n",
       "min        0.000000  \n",
       "25%        0.000000  \n",
       "50%        0.000000  \n",
       "75%        0.000000  \n",
       "max        1.000000  \n",
       "\n",
       "[8 rows x 31 columns]"
      ]
     },
     "execution_count": 36,
     "metadata": {},
     "output_type": "execute_result"
    }
   ],
   "source": [
    "#Describing the main statistics of the data\n",
    "model.describe()"
   ]
  },
  {
   "cell_type": "code",
   "execution_count": 37,
   "id": "42e94697-41a5-45f2-8d00-9ac7ae5400f6",
   "metadata": {},
   "outputs": [
    {
     "data": {
      "text/plain": [
       "(94000, 31)"
      ]
     },
     "execution_count": 37,
     "metadata": {},
     "output_type": "execute_result"
    }
   ],
   "source": [
    "model.shape"
   ]
  },
  {
   "cell_type": "markdown",
   "id": "701974a3-4033-4ac6-8a8c-34613a63000a",
   "metadata": {},
   "source": [
    "There are 31 columns and 94000 rows in the data "
   ]
  },
  {
   "cell_type": "code",
   "execution_count": 38,
   "id": "23f2a1b8-929f-4dbc-8f6e-c16526d07028",
   "metadata": {},
   "outputs": [
    {
     "name": "stdout",
     "output_type": "stream",
     "text": [
      "<class 'pandas.core.frame.DataFrame'>\n",
      "RangeIndex: 94000 entries, 0 to 93999\n",
      "Data columns (total 31 columns):\n",
      " #   Column   Non-Null Count  Dtype  \n",
      "---  ------   --------------  -----  \n",
      " 0   A1       94000 non-null  float64\n",
      " 1   A2       94000 non-null  float64\n",
      " 2   A3       94000 non-null  float64\n",
      " 3   A4       94000 non-null  float64\n",
      " 4   A5       94000 non-null  float64\n",
      " 5   A6       94000 non-null  float64\n",
      " 6   A7       94000 non-null  float64\n",
      " 7   A8       94000 non-null  float64\n",
      " 8   A9       94000 non-null  float64\n",
      " 9   A10      94000 non-null  float64\n",
      " 10  A11      94000 non-null  float64\n",
      " 11  A12      94000 non-null  float64\n",
      " 12  A13      94000 non-null  float64\n",
      " 13  A14      94000 non-null  float64\n",
      " 14  A15      94000 non-null  float64\n",
      " 15  A16      94000 non-null  float64\n",
      " 16  A17      94000 non-null  float64\n",
      " 17  A18      94000 non-null  float64\n",
      " 18  A19      94000 non-null  float64\n",
      " 19  A20      94000 non-null  float64\n",
      " 20  A21      94000 non-null  int64  \n",
      " 21  A22      94000 non-null  float64\n",
      " 22  A23      94000 non-null  float64\n",
      " 23  A24      94000 non-null  float64\n",
      " 24  A25      94000 non-null  float64\n",
      " 25  A26      94000 non-null  float64\n",
      " 26  A27      94000 non-null  float64\n",
      " 27  A28      94000 non-null  float64\n",
      " 28  A29      94000 non-null  float64\n",
      " 29  A30      94000 non-null  float64\n",
      " 30  default  94000 non-null  int64  \n",
      "dtypes: float64(29), int64(2)\n",
      "memory usage: 22.2 MB\n"
     ]
    }
   ],
   "source": [
    "model.info()"
   ]
  },
  {
   "cell_type": "markdown",
   "id": "05e9cf23-e3f8-4426-b084-0c7ac1d0ef81",
   "metadata": {},
   "source": [
    "All the columns are already in numeric format, so there is no need of One Hot Encoding before we start classification"
   ]
  },
  {
   "cell_type": "markdown",
   "id": "88954f20-3bbb-4481-b11c-8cf0a61b1b95",
   "metadata": {},
   "source": [
    "#### Visualizing the data and spread."
   ]
  },
  {
   "cell_type": "markdown",
   "id": "80e7863d-3647-4f58-9741-1dd57a6e6ba1",
   "metadata": {},
   "source": [
    "Chekcing the frequence distribution of the default class"
   ]
  },
  {
   "cell_type": "code",
   "execution_count": 39,
   "id": "858c6c3a-39cb-4135-bc18-f58e07ef1333",
   "metadata": {},
   "outputs": [
    {
     "data": {
      "text/plain": [
       "0    90000\n",
       "1     4000\n",
       "Name: default, dtype: int64"
      ]
     },
     "execution_count": 39,
     "metadata": {},
     "output_type": "execute_result"
    }
   ],
   "source": [
    "model['default'].value_counts()"
   ]
  },
  {
   "cell_type": "markdown",
   "id": "feefa121-06ee-4fe4-a4a6-2f7333cb6859",
   "metadata": {},
   "source": [
    "The data seems to be unbalanced, we will dive deep into this issue in some time"
   ]
  },
  {
   "cell_type": "code",
   "execution_count": 40,
   "id": "a5555a71-a195-4062-b408-3728f5d372e6",
   "metadata": {},
   "outputs": [
    {
     "data": {
      "image/png": "[encoded data removed]",
      "text/plain": [
       "<Figure size 2160x1800 with 36 Axes>"
      ]
     },
     "metadata": {
      "needs_background": "light"
     },
     "output_type": "display_data"
    }
   ],
   "source": [
    "plt.rcParams['figure.figsize']=(30,25)\n",
    "\n",
    "model.plot(kind='hist', bins=10, subplots=True, layout=(6,6), sharex=False, sharey=False)\n",
    "\n",
    "plt.show()"
   ]
  },
  {
   "cell_type": "markdown",
   "id": "1ecb259a-d988-4eb9-af8e-d93cda7acb2f",
   "metadata": {},
   "source": [
    "We can see that all the columns are positively skewed"
   ]
  },
  {
   "cell_type": "markdown",
   "id": "706ebb0b-4333-4747-8bfc-3f99bf4e9857",
   "metadata": {},
   "source": [
    "# Data Cleaning and Preparation"
   ]
  },
  {
   "cell_type": "markdown",
   "id": "490711bb-0f96-48c4-9c24-369ec2f730a7",
   "metadata": {},
   "source": [
    "Check missing values"
   ]
  },
  {
   "cell_type": "code",
   "execution_count": 41,
   "id": "66fc0d3a-f480-4255-bada-afdb6b49f418",
   "metadata": {},
   "outputs": [
    {
     "data": {
      "text/plain": [
       "A1         0\n",
       "A2         0\n",
       "A3         0\n",
       "A4         0\n",
       "A5         0\n",
       "A6         0\n",
       "A7         0\n",
       "A8         0\n",
       "A9         0\n",
       "A10        0\n",
       "A11        0\n",
       "A12        0\n",
       "A13        0\n",
       "A14        0\n",
       "A15        0\n",
       "A16        0\n",
       "A17        0\n",
       "A18        0\n",
       "A19        0\n",
       "A20        0\n",
       "A21        0\n",
       "A22        0\n",
       "A23        0\n",
       "A24        0\n",
       "A25        0\n",
       "A26        0\n",
       "A27        0\n",
       "A28        0\n",
       "A29        0\n",
       "A30        0\n",
       "default    0\n",
       "dtype: int64"
      ]
     },
     "execution_count": 41,
     "metadata": {},
     "output_type": "execute_result"
    }
   ],
   "source": [
    "model.isnull().sum()"
   ]
  },
  {
   "cell_type": "markdown",
   "id": "f29fd54e-a90f-4308-aad0-a8d8f0f16a12",
   "metadata": {},
   "source": [
    "As we can see here, there are no missing (NaN) values."
   ]
  },
  {
   "cell_type": "markdown",
   "id": "57a7941e-a2c7-4ee8-bb6f-791def351464",
   "metadata": {},
   "source": [
    "#### Outlier Detection"
   ]
  },
  {
   "cell_type": "markdown",
   "id": "d2d3e6dc-75db-4167-ab3b-92295ebf3ee5",
   "metadata": {},
   "source": [
    "Outliers can sometimes cause a serious problem, especially in a classification problem. Hence we try to remove outliers by Z-score method. z-score size is set to 5 standard deviations to ensure there is no major data leakage"
   ]
  },
  {
   "cell_type": "code",
   "execution_count": 42,
   "id": "e5b1e024-2ed7-41e7-ad61-e0bfde36c165",
   "metadata": {},
   "outputs": [],
   "source": [
    "# Detecting and Deleting outliers\n",
    "for column in model.columns:\n",
    "    out=[]\n",
    "    def Zscore_outlier(model):\n",
    "        m = np.mean(model)\n",
    "        sd = np.std(model)\n",
    "        for i in model: \n",
    "            z = (i-m)/sd\n",
    "            if np.abs(z) > 5: \n",
    "                out.append(i)\n",
    "        #print(\"Outliers:\",out)\n",
    "    Zscore_outlier(model[column])\n",
    "    model = model[~model[column].isin(out)]"
   ]
  },
  {
   "cell_type": "markdown",
   "id": "662f7cd1-46f1-4689-b7a3-b9de149ef8c3",
   "metadata": {},
   "source": [
    "#### Removing highly correlated columns"
   ]
  },
  {
   "cell_type": "markdown",
   "id": "1bdd7bf8-5689-4ab6-ae94-3544e830f8a3",
   "metadata": {},
   "source": [
    "correlation is usually not a problem, but an extremely high correlation can cause a problem with the way a computer handles the numbers. So we try to identify highly correlated columns"
   ]
  },
  {
   "cell_type": "code",
   "execution_count": 43,
   "id": "2287ea01-7b37-40dc-ab3d-6597fa69949a",
   "metadata": {},
   "outputs": [
    {
     "data": {
      "image/png": "[encoded data removed]",
      "text/plain": [
       "<Figure size 2160x1800 with 2 Axes>"
      ]
     },
     "metadata": {
      "needs_background": "light"
     },
     "output_type": "display_data"
    }
   ],
   "source": [
    "dataplot = sb.heatmap(model.corr())\n",
    "# displaying heatmap\n",
    "plt.show()"
   ]
  },
  {
   "cell_type": "markdown",
   "id": "833ca1e7-96bf-4922-b125-d9253ea1addd",
   "metadata": {},
   "source": [
    "As seen in the above heatmap, the columns A6 and A10 have highest corelation"
   ]
  },
  {
   "cell_type": "code",
   "execution_count": 44,
   "id": "c6bf3ad6-3fff-4852-9387-33c41b82744b",
   "metadata": {},
   "outputs": [
    {
     "data": {
      "image/png": "[encoded data removed]",
      "text/plain": [
       "<Figure size 2160x1800 with 2 Axes>"
      ]
     },
     "metadata": {
      "needs_background": "light"
     },
     "output_type": "display_data"
    }
   ],
   "source": [
    "# deleting highly corelated columns\n",
    "corr = model.corr()\n",
    "columns = np.full((corr.shape[0],), True, dtype=bool)\n",
    "for i in range(corr.shape[0]):\n",
    "    for j in range(i+1, corr.shape[0]):\n",
    "        if corr.iloc[i,j] >= 0.9:\n",
    "            if columns[j]:\n",
    "                columns[j] = False\n",
    "selected_columns = model.columns[columns]\n",
    "model = model[selected_columns]\n",
    "dataplot = sb.heatmap(model.corr())\n",
    "  \n",
    "# displaying heatmap\n",
    "plt.show()"
   ]
  },
  {
   "cell_type": "markdown",
   "id": "c22a1d89-25e2-4e78-b834-1084867bba34",
   "metadata": {},
   "source": [
    "The columns A6 and A10 are removed, as they have corelation greater than 0.9 which is bad, Following are the remaining columns"
   ]
  },
  {
   "cell_type": "code",
   "execution_count": 45,
   "id": "5108908f-a5ca-497d-8b8f-5447dbc1ec0c",
   "metadata": {},
   "outputs": [
    {
     "data": {
      "text/plain": [
       "Index(['A1', 'A2', 'A3', 'A4', 'A5', 'A7', 'A8', 'A9', 'A11', 'A12', 'A13',\n",
       "       'A14', 'A15', 'A16', 'A17', 'A18', 'A19', 'A20', 'A21', 'A22', 'A23',\n",
       "       'A24', 'A25', 'A26', 'A27', 'A28', 'A29', 'A30', 'default'],\n",
       "      dtype='object')"
      ]
     },
     "execution_count": 45,
     "metadata": {},
     "output_type": "execute_result"
    }
   ],
   "source": [
    "selected_columns"
   ]
  },
  {
   "cell_type": "markdown",
   "id": "d03a26ac-9103-4614-b525-9298a862b74e",
   "metadata": {},
   "source": [
    "## Checking if the data is balanced"
   ]
  },
  {
   "cell_type": "markdown",
   "id": "0041851f-1597-4d0c-9980-2ca24a815d29",
   "metadata": {},
   "source": [
    "A binary classification dataset is said to be balanced if the entries of two classes are almost same in ratio. In the following steps, we will calculate the ratio of 0's to 1's and see if the data is balanced."
   ]
  },
  {
   "cell_type": "code",
   "execution_count": 46,
   "id": "d4c1d3db-ae00-4b79-9198-6e1e468875a0",
   "metadata": {},
   "outputs": [
    {
     "name": "stdout",
     "output_type": "stream",
     "text": [
      "Class 0: 82354\n",
      "Class 1: 3459\n",
      "Proportion: 23.81 : 1\n"
     ]
    },
    {
     "data": {
      "image/png": "[encoded data removed]",
      "text/plain": [
       "<Figure size 2160x1800 with 1 Axes>"
      ]
     },
     "metadata": {
      "needs_background": "light"
     },
     "output_type": "display_data"
    }
   ],
   "source": [
    "df_train = model\n",
    "\n",
    "target_count = df_train.default.value_counts()\n",
    "print('Class 0:', target_count[0])\n",
    "print('Class 1:', target_count[1])\n",
    "print('Proportion:', round(target_count[0] / target_count[1], 2), ': 1')\n",
    "\n",
    "target_count.plot(kind='bar', title='Count (default)');"
   ]
  },
  {
   "cell_type": "markdown",
   "id": "ac826bbf-2c05-4fc2-a46c-6f88df57fb4c",
   "metadata": {},
   "source": [
    "We can see here that the samples are very low for the class 1, Hence we balance the data by performing Oversampling."
   ]
  },
  {
   "cell_type": "markdown",
   "id": "6589d85d-c403-4785-94c5-aa06140b8066",
   "metadata": {},
   "source": [
    "## Oversampling"
   ]
  },
  {
   "cell_type": "markdown",
   "id": "1e729845-5358-4ed1-b5c3-19ea10b5db81",
   "metadata": {},
   "source": [
    "Oversampling is a process in which random samples are selected from minority class and many more samples with minority label are created till both the minority class and majority class have equal weight in the data"
   ]
  },
  {
   "cell_type": "code",
   "execution_count": 47,
   "id": "041b7ca3-ed52-424b-af40-78ba1cd1dbbf",
   "metadata": {},
   "outputs": [],
   "source": [
    "# Class count\n",
    "count_class_0, count_class_1 = df_train.default.value_counts()\n",
    "\n",
    "# Divide by class\n",
    "df_class_0 = df_train[df_train['default'] == 0]\n",
    "df_class_1 = df_train[df_train['default'] == 1]"
   ]
  },
  {
   "cell_type": "code",
   "execution_count": 48,
   "id": "847b7d0b-c2a0-45ba-ae5f-8b2b9305a6a4",
   "metadata": {},
   "outputs": [
    {
     "name": "stdout",
     "output_type": "stream",
     "text": [
      "Random over-sampling:\n",
      "0    82354\n",
      "1    82354\n",
      "Name: default, dtype: int64\n"
     ]
    },
    {
     "data": {
      "image/png": "[encoded data removed]",
      "text/plain": [
       "<Figure size 2160x1800 with 1 Axes>"
      ]
     },
     "metadata": {
      "needs_background": "light"
     },
     "output_type": "display_data"
    }
   ],
   "source": [
    "#Upsampling minority class\n",
    "df_class_1_over = df_class_1.sample(count_class_0, replace=True)\n",
    "df_test_over = pd.concat([df_class_0, df_class_1_over], axis=0)\n",
    "\n",
    "print('Random over-sampling:')\n",
    "print(df_test_over.default.value_counts())\n",
    "\n",
    "df_test_over.default.value_counts().plot(kind='bar', title='Count (target)');"
   ]
  },
  {
   "cell_type": "markdown",
   "id": "dcb10df2-ea15-4f3b-88a4-2521f6e2f40f",
   "metadata": {},
   "source": [
    "As we have seen here, both 0 and 1 have same number of samples, hence the data is now balanced."
   ]
  },
  {
   "cell_type": "markdown",
   "id": "7091263b-3c61-43a7-b6c8-a111148e49a2",
   "metadata": {},
   "source": [
    "#### But there is a problem here. To upsample the data, oversampling repeats the rows redundantly, resulting to duplication of training data of the minority class, \n",
    "#### Hence we employ the SMOTE method to make the data unique"
   ]
  },
  {
   "cell_type": "markdown",
   "id": "209c7d52-e484-4ccc-8e8e-44eb8b197055",
   "metadata": {},
   "source": [
    "# SMOTE (Synthetic Minority Oversampling Technique)"
   ]
  },
  {
   "cell_type": "markdown",
   "id": "c4b44222-8506-4ac6-a0de-db071c6d99e4",
   "metadata": {},
   "source": [
    "SMOTE is an oversampling technique that generates synthetic samples from the minority class. It is used to obtain a synthetically class-balanced or nearly class-balanced training set, which is then used to train the classifier. The SMOTE samples are linear combinations of two similar samples from the minority class "
   ]
  },
  {
   "cell_type": "code",
   "execution_count": 49,
   "id": "bd545243-e590-4b75-a074-831fcf9cf3fc",
   "metadata": {},
   "outputs": [],
   "source": [
    "#get indices of each class\n",
    "labels_train = df_test_over['default']\n",
    "indices_0 = np.where(labels_train == 0)[0]\n",
    "indices_1 = np.where(labels_train == 1)[0]\n",
    "indices = np.concatenate([indices_0, indices_1])\n",
    "X_train = df_test_over[[c for c in df_test_over.columns if c != 'default']].values"
   ]
  },
  {
   "cell_type": "code",
   "execution_count": 50,
   "id": "660a87d7-2876-4765-8171-dfdc2798bbdd",
   "metadata": {},
   "outputs": [],
   "source": [
    "#populate entire dataset\n",
    "X_train_oversampled_smote = []\n",
    "labels_train_oversampled_smote = []\n",
    "\n",
    "for _ in range(X_train.shape[0]):\n",
    "    p = np.random.random()\n",
    "    #sample from majority class\n",
    "    if p < 0.50:\n",
    "        X_train_oversampled_smote.append(X_train[np.random.choice(indices_0)])\n",
    "        labels_train_oversampled_smote.append(0)\n",
    "    #sample from minority class\n",
    "    else:\n",
    "        #get two random samples from minority class\n",
    "        minority_samp_1 = X_train[np.random.choice(indices_1)]\n",
    "        minority_samp_2 = X_train[np.random.choice(indices_1)]\n",
    "        \n",
    "        #get random proportion with which to mix them\n",
    "        prop = np.random.random()\n",
    "        \n",
    "        #generate synthetic sample from minority class\n",
    "        synthetic_minority_samp = prop*minority_samp_1 + (1-prop)*minority_samp_2\n",
    "        X_train_oversampled_smote.append(synthetic_minority_samp)\n",
    "        labels_train_oversampled_smote.append(1)\n",
    "        \n",
    "X_train_oversampled_smote = np.array(X_train_oversampled_smote)\n",
    "labels_train_oversampled_smote = np.array(labels_train_oversampled_smote)"
   ]
  },
  {
   "cell_type": "code",
   "execution_count": 51,
   "id": "a5c455f5-c39e-41fa-bd71-9c22e63901fb",
   "metadata": {},
   "outputs": [
    {
     "name": "stdout",
     "output_type": "stream",
     "text": [
      "Fraction of positive labels in SMOTE oversampled data: 50.123%\n"
     ]
    }
   ],
   "source": [
    "print('Fraction of positive labels in SMOTE oversampled data:', str(round(100*np.mean(labels_train_oversampled_smote),3)) + '%')"
   ]
  },
  {
   "cell_type": "markdown",
   "id": "76c7f9b6-09ed-4150-a5f2-026694605da7",
   "metadata": {},
   "source": [
    "## Logistic Regression"
   ]
  },
  {
   "cell_type": "markdown",
   "id": "d8857742-e264-4cf3-ba94-057e112fa4b8",
   "metadata": {},
   "source": [
    "Logistic Regression is a kind of Regression model that is mainly used in classification problems. It is a process of modeling the probability of a discrete outcome given an input variable. It uses a sigmoid function through which it classifies the data. It is given by the formula Y = 1/1+e^-z. Where if the value of z goes to positive infinity, the predicted value will be close to 1 and if it goes in negative direction, the predicted value goes close to 0"
   ]
  },
  {
   "cell_type": "code",
   "execution_count": 52,
   "id": "48c604be-1bf2-4667-a2ec-4dcdfcf2798d",
   "metadata": {},
   "outputs": [],
   "source": [
    "from sklearn.model_selection import train_test_split\n",
    "X_train, X_test, y_train, y_test = train_test_split(X_train_oversampled_smote, labels_train_oversampled_smote, test_size = 0.20, random_state = 0)"
   ]
  },
  {
   "cell_type": "markdown",
   "id": "7f9138f1-9770-40d1-9420-aec505049248",
   "metadata": {},
   "source": [
    "#### Feature Scaling"
   ]
  },
  {
   "cell_type": "code",
   "execution_count": 53,
   "id": "8351a4ff-8e14-4d3a-9c40-2a927ab245cd",
   "metadata": {},
   "outputs": [],
   "source": [
    "from sklearn.preprocessing import StandardScaler\n",
    "sc = StandardScaler()\n",
    "X_train = sc.fit_transform(X_train)\n",
    "X_test = sc.transform(X_test)"
   ]
  },
  {
   "cell_type": "markdown",
   "id": "34266d3c-bbac-45ee-83a4-edc435cdd464",
   "metadata": {},
   "source": [
    "#### Training the Logistic Regression model on the Training set"
   ]
  },
  {
   "cell_type": "code",
   "execution_count": 54,
   "id": "9bcc905f-f1d8-4514-a029-d9e4114ed051",
   "metadata": {},
   "outputs": [
    {
     "data": {
      "text/plain": [
       "LogisticRegression(random_state=0)"
      ]
     },
     "execution_count": 54,
     "metadata": {},
     "output_type": "execute_result"
    }
   ],
   "source": [
    "from sklearn.linear_model import LogisticRegression\n",
    "classifier = LogisticRegression(random_state = 0)\n",
    "classifier.fit(X_train, y_train)"
   ]
  },
  {
   "cell_type": "markdown",
   "id": "43d91a5a-05b9-4393-81bf-fe8e8150205b",
   "metadata": {},
   "source": [
    "#### Predicting Test Set results"
   ]
  },
  {
   "cell_type": "code",
   "execution_count": 55,
   "id": "cf768dd9-0d91-4d9e-a54b-94ed88761880",
   "metadata": {},
   "outputs": [],
   "source": [
    "y_pred = classifier.predict(X_test)"
   ]
  },
  {
   "cell_type": "markdown",
   "id": "b3aef2fe-4a42-4001-acf0-65d09fc1fa28",
   "metadata": {},
   "source": [
    "#### AUC Value "
   ]
  },
  {
   "cell_type": "code",
   "execution_count": 56,
   "id": "23e03592-220c-40cc-b1c8-eb41c5c29dd7",
   "metadata": {},
   "outputs": [
    {
     "name": "stdout",
     "output_type": "stream",
     "text": [
      "ROC AUC Value is  0.7603\n"
     ]
    }
   ],
   "source": [
    "from sklearn.metrics import (confusion_matrix, precision_recall_curve, auc,\n",
    "                             roc_curve, recall_score, classification_report, f1_score,\n",
    "                             precision_recall_fscore_support)\n",
    "fpr, tpr, thresholds = roc_curve(y_test, y_pred)\n",
    "roc_auc = auc(fpr, tpr)\n",
    "print(\"ROC AUC Value is \",round(roc_auc,4))"
   ]
  },
  {
   "cell_type": "markdown",
   "id": "0e19b826-90e2-4272-8337-6486fc5910b9",
   "metadata": {},
   "source": [
    "ROC AUC is a single number summary of classifier performance. The higher the value, the better the classifier.\n",
    "\n",
    "ROC AUC of our model approaches towards 1. So, we can conclude that our classifier does a good job."
   ]
  },
  {
   "cell_type": "markdown",
   "id": "64afb9dd-b7d4-48be-99a1-691d9d5032d4",
   "metadata": {},
   "source": [
    "## Method 2 - Stochastic Gradient Descent"
   ]
  },
  {
   "cell_type": "markdown",
   "id": "1ddaf6ab-e456-40d7-8220-1593a0c45d12",
   "metadata": {},
   "source": [
    "Stochastic Gradient descent is an extension to the Gradient descent. In gradient descent all the samples of the training set are used to do a single update for a parameter, which is very time consuming. To overcome this, stochastic gradient descent is created. It tales only one or a subset of training sample to update a parameter in an iteration."
   ]
  },
  {
   "cell_type": "markdown",
   "id": "939c10f1-b07d-4af4-a97a-00f35a66f9e9",
   "metadata": {},
   "source": [
    "Stochastic Gradient Descent is a very useful approach in a large-scale data. It takes less computational time and gives trustworthy results"
   ]
  },
  {
   "cell_type": "code",
   "execution_count": 57,
   "id": "76b0b03b-14da-4af5-90b3-b2b2cb92b934",
   "metadata": {},
   "outputs": [
    {
     "data": {
      "text/plain": [
       "SGDClassifier(random_state=0)"
      ]
     },
     "execution_count": 57,
     "metadata": {},
     "output_type": "execute_result"
    }
   ],
   "source": [
    "from sklearn.linear_model import SGDClassifier\n",
    "SGD_classifier = SGDClassifier(random_state = 0)\n",
    "SGD_classifier.fit(X_train, y_train)"
   ]
  },
  {
   "cell_type": "code",
   "execution_count": 58,
   "id": "ee02919a-f543-41e1-b0ac-ea5c02f3551f",
   "metadata": {},
   "outputs": [],
   "source": [
    "y_pred = SGD_classifier.predict(X_test)"
   ]
  },
  {
   "cell_type": "code",
   "execution_count": 59,
   "id": "3087f31d-4165-4403-9a8d-d83a08831327",
   "metadata": {},
   "outputs": [
    {
     "name": "stdout",
     "output_type": "stream",
     "text": [
      "ROC AUC Value is  0.7563\n"
     ]
    }
   ],
   "source": [
    "from sklearn.metrics import (confusion_matrix, precision_recall_curve, auc,\n",
    "                             roc_curve, recall_score, classification_report, f1_score,\n",
    "                             precision_recall_fscore_support)\n",
    "fpr, tpr, thresholds = roc_curve(y_test, y_pred)\n",
    "roc_auc = auc(fpr, tpr)\n",
    "print(\"ROC AUC Value is \",round(roc_auc,4))"
   ]
  },
  {
   "cell_type": "markdown",
   "id": "4be08be7-f3d2-49b2-9efb-378ee7364918",
   "metadata": {},
   "source": [
    "## Predicting Validation data"
   ]
  },
  {
   "cell_type": "markdown",
   "id": "dea1a6c1-117f-47b7-b762-6c8958cc6c54",
   "metadata": {},
   "source": [
    "Now considering the whole 'model.csv' as training data, predictions are performed on 'validate.csv'"
   ]
  },
  {
   "cell_type": "code",
   "execution_count": 60,
   "id": "7b0445d7-46f6-4e94-b6a5-4dae0d096d5b",
   "metadata": {},
   "outputs": [],
   "source": [
    "test_data = pd.read_csv('../data/input/val.csv')\n",
    "test_data = test_data.drop(['A6','A10'],axis=1)\n",
    "test_label = test_data['default']\n",
    "test_data = test_data.iloc[:,0:-1]\n",
    "X_train = X_train_oversampled_smote\n",
    "y_train = labels_train_oversampled_smote\n",
    "X_test = np.array(test_data)\n",
    "y_test = np.array(test_label)\n",
    "from sklearn.preprocessing import RobustScaler\n",
    "sc = RobustScaler()\n",
    "X_train = sc.fit_transform(X_train)\n",
    "X_test = sc.transform(X_test)"
   ]
  },
  {
   "cell_type": "markdown",
   "id": "5326f27d-626c-4d73-9780-fb46c7391be2",
   "metadata": {},
   "source": [
    "## Logistic Regression"
   ]
  },
  {
   "cell_type": "code",
   "execution_count": 61,
   "id": "78c514b6-45a6-4c23-b0e5-117253c080d7",
   "metadata": {},
   "outputs": [
    {
     "name": "stdout",
     "output_type": "stream",
     "text": [
      "ROC AUC Value is  0.7398\n"
     ]
    }
   ],
   "source": [
    "classifier = LogisticRegression(random_state = 0)\n",
    "classifier.fit(X_train, y_train)\n",
    "y_pred = classifier.predict(X_test)\n",
    "from sklearn.metrics import (confusion_matrix, precision_recall_curve, auc,\n",
    "                             roc_curve, recall_score, classification_report, f1_score,\n",
    "                             precision_recall_fscore_support)\n",
    "fpr, tpr, thresholds = roc_curve(y_test, y_pred)\n",
    "roc_auc = auc(fpr, tpr)\n",
    "print(\"ROC AUC Value is \",round(roc_auc,4))"
   ]
  },
  {
   "cell_type": "markdown",
   "id": "b53cf236-5dbf-4bb4-a805-903ed2381259",
   "metadata": {},
   "source": [
    "Storing the results"
   ]
  },
  {
   "cell_type": "code",
   "execution_count": 62,
   "id": "4bdcad35-c8a4-4ee3-a67d-09c03571a9c2",
   "metadata": {},
   "outputs": [],
   "source": [
    "submission = pd.DataFrame(y_pred)\n",
    "submission.to_csv('../data/output/results1.csv',index=False)"
   ]
  },
  {
   "cell_type": "markdown",
   "id": "f7f88975-6513-4706-a9bd-79212ee1a3e5",
   "metadata": {},
   "source": [
    "## Stochastic Gradient Descent"
   ]
  },
  {
   "cell_type": "code",
   "execution_count": 63,
   "id": "704a0e91-19ab-4ade-89ab-b0a29a150547",
   "metadata": {},
   "outputs": [
    {
     "name": "stdout",
     "output_type": "stream",
     "text": [
      "ROC AUC Value is  0.7304\n"
     ]
    }
   ],
   "source": [
    "from sklearn.linear_model import SGDClassifier\n",
    "SGD_classifier = SGDClassifier(random_state = 0)\n",
    "SGD_classifier.fit(X_train, y_train)\n",
    "y_pred = SGD_classifier.predict(X_test)\n",
    "from sklearn.metrics import (confusion_matrix, precision_recall_curve, auc,\n",
    "                             roc_curve, recall_score, classification_report, f1_score,\n",
    "                             precision_recall_fscore_support)\n",
    "fpr, tpr, thresholds = roc_curve(y_test, y_pred)\n",
    "roc_auc = auc(fpr, tpr)\n",
    "print(\"ROC AUC Value is \",round(roc_auc,4))"
   ]
  },
  {
   "cell_type": "markdown",
   "id": "6633b7de-23a0-4636-8a19-ed8c45b09598",
   "metadata": {},
   "source": [
    "Storing the predicted values"
   ]
  },
  {
   "cell_type": "code",
   "execution_count": 64,
   "id": "c03add31-b4b0-481c-96d9-08b9c8309613",
   "metadata": {},
   "outputs": [],
   "source": [
    "submission2 = pd.DataFrame(y_pred)\n",
    "submission2.to_csv('../data/output/results2.csv',index=False)"
   ]
  },
  {
   "cell_type": "code",
   "execution_count": null,
   "id": "443e0538-b733-4241-a5c5-a90524d1b125",
   "metadata": {},
   "outputs": [],
   "source": []
  }
 ],
 "metadata": {
  "kernelspec": {
   "display_name": "Python 3 (ipykernel)",
   "language": "python",
   "name": "python3"
  },
  "language_info": {
   "codemirror_mode": {
    "name": "ipython",
    "version": 3
   },
   "file_extension": ".py",
   "mimetype": "text/x-python",
   "name": "python",
   "nbconvert_exporter": "python",
   "pygments_lexer": "ipython3",
   "version": "3.9.12"
  }
 },
 "nbformat": 4,
 "nbformat_minor": 5
}
