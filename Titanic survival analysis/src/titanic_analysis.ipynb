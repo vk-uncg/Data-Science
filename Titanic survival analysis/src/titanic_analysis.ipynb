{
 "cells": [
  {
   "cell_type": "markdown",
   "metadata": {},
   "source": [
    "# Titanic Survival\n",
    "\n",
    "#### Grading:\n",
    "\n",
    "\n",
    "- Code: 90 pts\n",
    "- Markdown Documentation: 10 pts\n"
   ]
  },
  {
   "cell_type": "markdown",
   "metadata": {},
   "source": [
    "We are going to study the survival rate of passengers on titanic and what variables affected survival."
   ]
  },
  {
   "cell_type": "markdown",
   "metadata": {},
   "source": [
    "Load the dataset in `titanic.xls`. It contains data on all the passengers that travelled on the Titanic."
   ]
  },
  {
   "cell_type": "code",
   "execution_count": 63,
   "metadata": {},
   "outputs": [
    {
     "data": {
      "text/html": [
       "<hr><h2>Data frame:titanic3</h2>1309 observations and 14 variables, maximum # NAs:1188<hr>\n",
       "<TABLE BORDER>\n",
       "<tr><td>Name</td><td>Labels</td><td>Units</td><td>Levels</td><td>Storage</td><td>NAs</td></tr>\n",
       "<tr><td>pclass</td><td></td><td></td><td><a href=\"#pclass\"><div align=right>  3</div></a></td><td>integer</td><td><div align=right>   0</div></td></tr>\n",
       "<tr><td>survived</td><td>Survived</td><td></td><td><div align=right></div></td><td>double</td><td><div align=right>   0</div></td></tr>\n",
       "<tr><td>name</td><td>Name</td><td></td><td><div align=right></div></td><td>character</td><td><div align=right>   0</div></td></tr>\n",
       "<tr><td>sex</td><td></td><td></td><td><a href=\"#sex\"><div align=right>  2</div></a></td><td>integer</td><td><div align=right>   0</div></td></tr>\n",
       "<tr><td>age</td><td>Age</td><td>Year</td><td><div align=right></div></td><td>double</td><td><div align=right> 263</div></td></tr>\n",
       "<tr><td>sibsp</td><td>Number of Siblings/Spouses Aboard</td><td></td><td><div align=right></div></td><td>double</td><td><div align=right>   0</div></td></tr>\n",
       "<tr><td>parch</td><td>Number of Parents/Children Aboard</td><td></td><td><div align=right></div></td><td>double</td><td><div align=right>   0</div></td></tr>\n",
       "<tr><td>ticket</td><td>Ticket Number</td><td></td><td><div align=right></div></td><td>character</td><td><div align=right>   0</div></td></tr>\n",
       "<tr><td>fare</td><td>Passenger Fare</td><td>British Pound (\\243)</td><td><div align=right></div></td><td>double</td><td><div align=right>   1</div></td></tr>\n",
       "<tr><td>cabin</td><td></td><td></td><td><a href=\"#cabin\"><div align=right>187</div></a></td><td>integer</td><td><div align=right>   0</div></td></tr>\n",
       "<tr><td>embarked</td><td></td><td></td><td><a href=\"#embarked\"><div align=right>  3</div></a></td><td>integer</td><td><div align=right>   2</div></td></tr>\n",
       "<tr><td>boat</td><td></td><td></td><td><a href=\"#boat\"><div align=right> 28</div></a></td><td>integer</td><td><div align=right>   0</div></td></tr>\n",
       "<tr><td>body</td><td>Body Identification Number</td><td></td><td><div align=right></div></td><td>double</td><td><div align=right>1188</div></td></tr>\n",
       "<tr><td>home.dest</td><td>Home/Destination</td><td></td><td><div align=right></div></td><td>character</td><td><div align=right>   0</div></td></tr>\n",
       "</TABLE>\n",
       "<hr>\n",
       "<TABLE BORDER>\n",
       "<tr><td>Variable</td><td>Levels</td></tr>\n",
       "<tr><td><a name=\"pclass\">pclass</a></td><td>1st</td></tr>\n",
       "<tr><td></td><td>2nd</td></tr>\n",
       "<tr><td></td><td>3rd</td></tr>\n",
       "<tr><td><a name=\"sex\">sex</a></td><td>female</td></tr>\n",
       "<tr><td></td><td>male</td></tr>\n",
       "<tr><td><a name=\"cabin\">cabin</a></td><td></td></tr>\n",
       "<tr><td></td><td>A10</td></tr>\n",
       "<tr><td></td><td>A11</td></tr>\n",
       "<tr><td></td><td>A14</td></tr>\n",
       "<tr><td></td><td>A16</td></tr>\n",
       "<tr><td></td><td>A18</td></tr>\n",
       "<tr><td></td><td>A19</td></tr>\n",
       "<tr><td></td><td>A20</td></tr>\n",
       "<tr><td></td><td>A21</td></tr>\n",
       "<tr><td></td><td>A23</td></tr>\n",
       "<tr><td></td><td>A24</td></tr>\n",
       "<tr><td></td><td>A26</td></tr>\n",
       "<tr><td></td><td>A29</td></tr>\n",
       "<tr><td></td><td>A31</td></tr>\n",
       "<tr><td></td><td>A32</td></tr>\n",
       "<tr><td></td><td>A34</td></tr>\n",
       "<tr><td></td><td>A36</td></tr>\n",
       "<tr><td></td><td>A5</td></tr>\n",
       "<tr><td></td><td>A6</td></tr>\n",
       "<tr><td></td><td>A7</td></tr>\n",
       "<tr><td></td><td>A9</td></tr>\n",
       "<tr><td></td><td>B10</td></tr>\n",
       "<tr><td></td><td>B101</td></tr>\n",
       "<tr><td></td><td>B102</td></tr>\n",
       "<tr><td></td><td>B11</td></tr>\n",
       "<tr><td></td><td>B18</td></tr>\n",
       "<tr><td></td><td>B19</td></tr>\n",
       "<tr><td></td><td>B20</td></tr>\n",
       "<tr><td></td><td>B22</td></tr>\n",
       "<tr><td></td><td>B24</td></tr>\n",
       "<tr><td></td><td>B26</td></tr>\n",
       "<tr><td></td><td>B28</td></tr>\n",
       "<tr><td></td><td>B3</td></tr>\n",
       "<tr><td></td><td>B30</td></tr>\n",
       "<tr><td></td><td>B35</td></tr>\n",
       "<tr><td></td><td>B36</td></tr>\n",
       "<tr><td></td><td>B37</td></tr>\n",
       "<tr><td></td><td>B38</td></tr>\n",
       "<tr><td></td><td>B39</td></tr>\n",
       "<tr><td></td><td>B4</td></tr>\n",
       "<tr><td></td><td>B41</td></tr>\n",
       "<tr><td></td><td>B42</td></tr>\n",
       "<tr><td></td><td>B45</td></tr>\n",
       "<tr><td></td><td>B49</td></tr>\n",
       "<tr><td></td><td>B5</td></tr>\n",
       "<tr><td></td><td>B50</td></tr>\n",
       "<tr><td></td><td>B51 B53 B55</td></tr>\n",
       "<tr><td></td><td>B52 B54 B56</td></tr>\n",
       "<tr><td></td><td>B57 B59 B63 B66</td></tr>\n",
       "<tr><td></td><td>B58 B60</td></tr>\n",
       "<tr><td></td><td>B61</td></tr>\n",
       "<tr><td></td><td>B69</td></tr>\n",
       "<tr><td></td><td>B71</td></tr>\n",
       "<tr><td></td><td>B73</td></tr>\n",
       "<tr><td></td><td>B77</td></tr>\n",
       "<tr><td></td><td>B78</td></tr>\n",
       "<tr><td></td><td>B79</td></tr>\n",
       "<tr><td></td><td>B80</td></tr>\n",
       "<tr><td></td><td>B82 B84</td></tr>\n",
       "<tr><td></td><td>B86</td></tr>\n",
       "<tr><td></td><td>B94</td></tr>\n",
       "<tr><td></td><td>B96 B98</td></tr>\n",
       "<tr><td></td><td>C101</td></tr>\n",
       "<tr><td></td><td>C103</td></tr>\n",
       "<tr><td></td><td>C104</td></tr>\n",
       "<tr><td></td><td>C105</td></tr>\n",
       "<tr><td></td><td>C106</td></tr>\n",
       "<tr><td></td><td>C110</td></tr>\n",
       "<tr><td></td><td>C111</td></tr>\n",
       "<tr><td></td><td>C116</td></tr>\n",
       "<tr><td></td><td>C118</td></tr>\n",
       "<tr><td></td><td>C123</td></tr>\n",
       "<tr><td></td><td>C124</td></tr>\n",
       "<tr><td></td><td>C125</td></tr>\n",
       "<tr><td></td><td>C126</td></tr>\n",
       "<tr><td></td><td>C128</td></tr>\n",
       "<tr><td></td><td>C130</td></tr>\n",
       "<tr><td></td><td>C132</td></tr>\n",
       "<tr><td></td><td>C148</td></tr>\n",
       "<tr><td></td><td>C2</td></tr>\n",
       "<tr><td></td><td>C22 C26</td></tr>\n",
       "<tr><td></td><td>C23 C25 C27</td></tr>\n",
       "<tr><td></td><td>C28</td></tr>\n",
       "<tr><td></td><td>C30</td></tr>\n",
       "<tr><td></td><td>C31</td></tr>\n",
       "<tr><td></td><td>C32</td></tr>\n",
       "<tr><td></td><td>C39</td></tr>\n",
       "<tr><td></td><td>C45</td></tr>\n",
       "<tr><td></td><td>C46</td></tr>\n",
       "<tr><td></td><td>C47</td></tr>\n",
       "<tr><td></td><td>C49</td></tr>\n",
       "<tr><td></td><td>C50</td></tr>\n",
       "<tr><td></td><td>C51</td></tr>\n",
       "<tr><td></td><td>C52</td></tr>\n",
       "<tr><td></td><td>C53</td></tr>\n",
       "<tr><td></td><td>C54</td></tr>\n",
       "<tr><td></td><td>C55 C57</td></tr>\n",
       "<tr><td></td><td>C6</td></tr>\n",
       "<tr><td></td><td>C62 C64</td></tr>\n",
       "<tr><td></td><td>C65</td></tr>\n",
       "<tr><td></td><td>C68</td></tr>\n",
       "<tr><td></td><td>C7</td></tr>\n",
       "<tr><td></td><td>C70</td></tr>\n",
       "<tr><td></td><td>C78</td></tr>\n",
       "<tr><td></td><td>C80</td></tr>\n",
       "<tr><td></td><td>C82</td></tr>\n",
       "<tr><td></td><td>C83</td></tr>\n",
       "<tr><td></td><td>C85</td></tr>\n",
       "<tr><td></td><td>C86</td></tr>\n",
       "<tr><td></td><td>C87</td></tr>\n",
       "<tr><td></td><td>C89</td></tr>\n",
       "<tr><td></td><td>C90</td></tr>\n",
       "<tr><td></td><td>C91</td></tr>\n",
       "<tr><td></td><td>C92</td></tr>\n",
       "<tr><td></td><td>C93</td></tr>\n",
       "<tr><td></td><td>C95</td></tr>\n",
       "<tr><td></td><td>C97</td></tr>\n",
       "<tr><td></td><td>C99</td></tr>\n",
       "<tr><td></td><td>D</td></tr>\n",
       "<tr><td></td><td>D10 D12</td></tr>\n",
       "<tr><td></td><td>D11</td></tr>\n",
       "<tr><td></td><td>D15</td></tr>\n",
       "<tr><td></td><td>D17</td></tr>\n",
       "<tr><td></td><td>D19</td></tr>\n",
       "<tr><td></td><td>D20</td></tr>\n",
       "<tr><td></td><td>D21</td></tr>\n",
       "<tr><td></td><td>D22</td></tr>\n",
       "<tr><td></td><td>D26</td></tr>\n",
       "<tr><td></td><td>D28</td></tr>\n",
       "<tr><td></td><td>D30</td></tr>\n",
       "<tr><td></td><td>D33</td></tr>\n",
       "<tr><td></td><td>D34</td></tr>\n",
       "<tr><td></td><td>D35</td></tr>\n",
       "<tr><td></td><td>D36</td></tr>\n",
       "<tr><td></td><td>D37</td></tr>\n",
       "<tr><td></td><td>D38</td></tr>\n",
       "<tr><td></td><td>D40</td></tr>\n",
       "<tr><td></td><td>D43</td></tr>\n",
       "<tr><td></td><td>D45</td></tr>\n",
       "<tr><td></td><td>D46</td></tr>\n",
       "<tr><td></td><td>D47</td></tr>\n",
       "<tr><td></td><td>D48</td></tr>\n",
       "<tr><td></td><td>D49</td></tr>\n",
       "<tr><td></td><td>D50</td></tr>\n",
       "<tr><td></td><td>D56</td></tr>\n",
       "<tr><td></td><td>D6</td></tr>\n",
       "<tr><td></td><td>D7</td></tr>\n",
       "<tr><td></td><td>D9</td></tr>\n",
       "<tr><td></td><td>E10</td></tr>\n",
       "<tr><td></td><td>E101</td></tr>\n",
       "<tr><td></td><td>E12</td></tr>\n",
       "<tr><td></td><td>E121</td></tr>\n",
       "<tr><td></td><td>E17</td></tr>\n",
       "<tr><td></td><td>E24</td></tr>\n",
       "<tr><td></td><td>E25</td></tr>\n",
       "<tr><td></td><td>E31</td></tr>\n",
       "<tr><td></td><td>E33</td></tr>\n",
       "<tr><td></td><td>E34</td></tr>\n",
       "<tr><td></td><td>E36</td></tr>\n",
       "<tr><td></td><td>E38</td></tr>\n",
       "<tr><td></td><td>E39 E41</td></tr>\n",
       "<tr><td></td><td>E40</td></tr>\n",
       "<tr><td></td><td>E44</td></tr>\n",
       "<tr><td></td><td>E45</td></tr>\n",
       "<tr><td></td><td>E46</td></tr>\n",
       "<tr><td></td><td>E49</td></tr>\n",
       "<tr><td></td><td>E50</td></tr>\n",
       "<tr><td></td><td>E52</td></tr>\n",
       "<tr><td></td><td>E58</td></tr>\n",
       "<tr><td></td><td>E60</td></tr>\n",
       "<tr><td></td><td>E63</td></tr>\n",
       "<tr><td></td><td>E67</td></tr>\n",
       "<tr><td></td><td>E68</td></tr>\n",
       "<tr><td></td><td>E77</td></tr>\n",
       "<tr><td></td><td>E8</td></tr>\n",
       "<tr><td></td><td>F</td></tr>\n",
       "<tr><td></td><td>F E46</td></tr>\n",
       "<tr><td></td><td>F E57</td></tr>\n",
       "<tr><td></td><td>F E69</td></tr>\n",
       "<tr><td></td><td>F G63</td></tr>\n",
       "<tr><td></td><td>F G73</td></tr>\n",
       "<tr><td></td><td>F2</td></tr>\n",
       "<tr><td></td><td>F33</td></tr>\n",
       "<tr><td></td><td>F38</td></tr>\n",
       "<tr><td></td><td>F4</td></tr>\n",
       "<tr><td></td><td>G6</td></tr>\n",
       "<tr><td></td><td>T</td></tr>\n",
       "<tr><td><a name=\"embarked\">embarked</a></td><td>Cherbourg</td></tr>\n",
       "<tr><td></td><td>Queenstown</td></tr>\n",
       "<tr><td></td><td>Southampton</td></tr>\n",
       "<tr><td><a name=\"boat\">boat</a></td><td></td></tr>\n",
       "<tr><td></td><td>1</td></tr>\n",
       "<tr><td></td><td>10</td></tr>\n",
       "<tr><td></td><td>11</td></tr>\n",
       "<tr><td></td><td>12</td></tr>\n",
       "<tr><td></td><td>13</td></tr>\n",
       "<tr><td></td><td>13 15</td></tr>\n",
       "<tr><td></td><td>13 15 B</td></tr>\n",
       "<tr><td></td><td>14</td></tr>\n",
       "<tr><td></td><td>15</td></tr>\n",
       "<tr><td></td><td>15 16</td></tr>\n",
       "<tr><td></td><td>16</td></tr>\n",
       "<tr><td></td><td>2</td></tr>\n",
       "<tr><td></td><td>3</td></tr>\n",
       "<tr><td></td><td>4</td></tr>\n",
       "<tr><td></td><td>5</td></tr>\n",
       "<tr><td></td><td>5 7</td></tr>\n",
       "<tr><td></td><td>5 9</td></tr>\n",
       "<tr><td></td><td>6</td></tr>\n",
       "<tr><td></td><td>7</td></tr>\n",
       "<tr><td></td><td>8</td></tr>\n",
       "<tr><td></td><td>8 10</td></tr>\n",
       "<tr><td></td><td>9</td></tr>\n",
       "<tr><td></td><td>A</td></tr>\n",
       "<tr><td></td><td>B</td></tr>\n",
       "<tr><td></td><td>C</td></tr>\n",
       "<tr><td></td><td>C D</td></tr>\n",
       "<tr><td></td><td>D</td></tr>\n",
       "</TABLE>\n",
       "<hr>\n"
      ],
      "text/plain": [
       "<IPython.core.display.HTML object>"
      ]
     },
     "execution_count": 63,
     "metadata": {},
     "output_type": "execute_result"
    }
   ],
   "source": [
    "from IPython.core.display import HTML\n",
    "HTML(filename='../data/titanic.html')"
   ]
  },
  {
   "cell_type": "code",
   "execution_count": 64,
   "metadata": {},
   "outputs": [],
   "source": [
    "import pandas as pd"
   ]
  },
  {
   "cell_type": "code",
   "execution_count": 65,
   "metadata": {},
   "outputs": [
    {
     "data": {
      "text/html": [
       "<div>\n",
       "<style scoped>\n",
       "    .dataframe tbody tr th:only-of-type {\n",
       "        vertical-align: middle;\n",
       "    }\n",
       "\n",
       "    .dataframe tbody tr th {\n",
       "        vertical-align: top;\n",
       "    }\n",
       "\n",
       "    .dataframe thead th {\n",
       "        text-align: right;\n",
       "    }\n",
       "</style>\n",
       "<table border=\"1\" class=\"dataframe\">\n",
       "  <thead>\n",
       "    <tr style=\"text-align: right;\">\n",
       "      <th></th>\n",
       "      <th>0</th>\n",
       "      <th>1</th>\n",
       "      <th>2</th>\n",
       "      <th>3</th>\n",
       "      <th>4</th>\n",
       "      <th>5</th>\n",
       "      <th>6</th>\n",
       "      <th>7</th>\n",
       "      <th>8</th>\n",
       "      <th>9</th>\n",
       "      <th>10</th>\n",
       "      <th>11</th>\n",
       "      <th>12</th>\n",
       "      <th>13</th>\n",
       "    </tr>\n",
       "  </thead>\n",
       "  <tbody>\n",
       "    <tr>\n",
       "      <th>0</th>\n",
       "      <td>pclass</td>\n",
       "      <td>survived</td>\n",
       "      <td>name</td>\n",
       "      <td>sex</td>\n",
       "      <td>age</td>\n",
       "      <td>sibsp</td>\n",
       "      <td>parch</td>\n",
       "      <td>ticket</td>\n",
       "      <td>fare</td>\n",
       "      <td>cabin</td>\n",
       "      <td>embarked</td>\n",
       "      <td>boat</td>\n",
       "      <td>body</td>\n",
       "      <td>home.dest</td>\n",
       "    </tr>\n",
       "    <tr>\n",
       "      <th>1</th>\n",
       "      <td>1</td>\n",
       "      <td>1</td>\n",
       "      <td>Allen, Miss. Elisabeth Walton</td>\n",
       "      <td>female</td>\n",
       "      <td>29</td>\n",
       "      <td>0</td>\n",
       "      <td>0</td>\n",
       "      <td>24160</td>\n",
       "      <td>211.3375</td>\n",
       "      <td>B5</td>\n",
       "      <td>S</td>\n",
       "      <td>2</td>\n",
       "      <td>NaN</td>\n",
       "      <td>St Louis, MO</td>\n",
       "    </tr>\n",
       "    <tr>\n",
       "      <th>2</th>\n",
       "      <td>1</td>\n",
       "      <td>1</td>\n",
       "      <td>Allison, Master. Hudson Trevor</td>\n",
       "      <td>male</td>\n",
       "      <td>0.9167</td>\n",
       "      <td>1</td>\n",
       "      <td>2</td>\n",
       "      <td>113781</td>\n",
       "      <td>151.55</td>\n",
       "      <td>C22 C26</td>\n",
       "      <td>S</td>\n",
       "      <td>11</td>\n",
       "      <td>NaN</td>\n",
       "      <td>Montreal, PQ / Chesterville, ON</td>\n",
       "    </tr>\n",
       "    <tr>\n",
       "      <th>3</th>\n",
       "      <td>1</td>\n",
       "      <td>0</td>\n",
       "      <td>Allison, Miss. Helen Loraine</td>\n",
       "      <td>female</td>\n",
       "      <td>2</td>\n",
       "      <td>1</td>\n",
       "      <td>2</td>\n",
       "      <td>113781</td>\n",
       "      <td>151.55</td>\n",
       "      <td>C22 C26</td>\n",
       "      <td>S</td>\n",
       "      <td>NaN</td>\n",
       "      <td>NaN</td>\n",
       "      <td>Montreal, PQ / Chesterville, ON</td>\n",
       "    </tr>\n",
       "    <tr>\n",
       "      <th>4</th>\n",
       "      <td>1</td>\n",
       "      <td>0</td>\n",
       "      <td>Allison, Mr. Hudson Joshua Creighton</td>\n",
       "      <td>male</td>\n",
       "      <td>30</td>\n",
       "      <td>1</td>\n",
       "      <td>2</td>\n",
       "      <td>113781</td>\n",
       "      <td>151.55</td>\n",
       "      <td>C22 C26</td>\n",
       "      <td>S</td>\n",
       "      <td>NaN</td>\n",
       "      <td>135</td>\n",
       "      <td>Montreal, PQ / Chesterville, ON</td>\n",
       "    </tr>\n",
       "  </tbody>\n",
       "</table>\n",
       "</div>"
      ],
      "text/plain": [
       "       0         1                                     2       3       4   \\\n",
       "0  pclass  survived                                  name     sex     age   \n",
       "1       1         1         Allen, Miss. Elisabeth Walton  female      29   \n",
       "2       1         1        Allison, Master. Hudson Trevor    male  0.9167   \n",
       "3       1         0          Allison, Miss. Helen Loraine  female       2   \n",
       "4       1         0  Allison, Mr. Hudson Joshua Creighton    male      30   \n",
       "\n",
       "      5      6       7         8        9         10    11    12  \\\n",
       "0  sibsp  parch  ticket      fare    cabin  embarked  boat  body   \n",
       "1      0      0   24160  211.3375       B5         S     2   NaN   \n",
       "2      1      2  113781    151.55  C22 C26         S    11   NaN   \n",
       "3      1      2  113781    151.55  C22 C26         S   NaN   NaN   \n",
       "4      1      2  113781    151.55  C22 C26         S   NaN   135   \n",
       "\n",
       "                                13  \n",
       "0                        home.dest  \n",
       "1                     St Louis, MO  \n",
       "2  Montreal, PQ / Chesterville, ON  \n",
       "3  Montreal, PQ / Chesterville, ON  \n",
       "4  Montreal, PQ / Chesterville, ON  "
      ]
     },
     "execution_count": 65,
     "metadata": {},
     "output_type": "execute_result"
    }
   ],
   "source": [
    "# you would need xlrd - pip install xlrd\n",
    "t_file = pd.ExcelFile('../data/titanic.xls')\n",
    "t_df = t_file.parse(\"titanic\", header=None)\n",
    "t_df.head()"
   ]
  },
  {
   "cell_type": "code",
   "execution_count": 66,
   "metadata": {},
   "outputs": [],
   "source": [
    "new_header = t_df.iloc[0] \n",
    "t_df = t_df[1:] \n",
    "t_df.columns = new_header"
   ]
  },
  {
   "cell_type": "code",
   "execution_count": 67,
   "metadata": {},
   "outputs": [
    {
     "data": {
      "text/html": [
       "<div>\n",
       "<style scoped>\n",
       "    .dataframe tbody tr th:only-of-type {\n",
       "        vertical-align: middle;\n",
       "    }\n",
       "\n",
       "    .dataframe tbody tr th {\n",
       "        vertical-align: top;\n",
       "    }\n",
       "\n",
       "    .dataframe thead th {\n",
       "        text-align: right;\n",
       "    }\n",
       "</style>\n",
       "<table border=\"1\" class=\"dataframe\">\n",
       "  <thead>\n",
       "    <tr style=\"text-align: right;\">\n",
       "      <th></th>\n",
       "      <th>pclass</th>\n",
       "      <th>survived</th>\n",
       "      <th>name</th>\n",
       "      <th>sex</th>\n",
       "      <th>age</th>\n",
       "      <th>sibsp</th>\n",
       "      <th>parch</th>\n",
       "      <th>ticket</th>\n",
       "      <th>fare</th>\n",
       "      <th>cabin</th>\n",
       "      <th>embarked</th>\n",
       "      <th>boat</th>\n",
       "      <th>body</th>\n",
       "      <th>home.dest</th>\n",
       "    </tr>\n",
       "  </thead>\n",
       "  <tbody>\n",
       "    <tr>\n",
       "      <th>1</th>\n",
       "      <td>1</td>\n",
       "      <td>1</td>\n",
       "      <td>Allen, Miss. Elisabeth Walton</td>\n",
       "      <td>female</td>\n",
       "      <td>29</td>\n",
       "      <td>0</td>\n",
       "      <td>0</td>\n",
       "      <td>24160</td>\n",
       "      <td>211.3375</td>\n",
       "      <td>B5</td>\n",
       "      <td>S</td>\n",
       "      <td>2</td>\n",
       "      <td>NaN</td>\n",
       "      <td>St Louis, MO</td>\n",
       "    </tr>\n",
       "    <tr>\n",
       "      <th>2</th>\n",
       "      <td>1</td>\n",
       "      <td>1</td>\n",
       "      <td>Allison, Master. Hudson Trevor</td>\n",
       "      <td>male</td>\n",
       "      <td>0.9167</td>\n",
       "      <td>1</td>\n",
       "      <td>2</td>\n",
       "      <td>113781</td>\n",
       "      <td>151.55</td>\n",
       "      <td>C22 C26</td>\n",
       "      <td>S</td>\n",
       "      <td>11</td>\n",
       "      <td>NaN</td>\n",
       "      <td>Montreal, PQ / Chesterville, ON</td>\n",
       "    </tr>\n",
       "    <tr>\n",
       "      <th>3</th>\n",
       "      <td>1</td>\n",
       "      <td>0</td>\n",
       "      <td>Allison, Miss. Helen Loraine</td>\n",
       "      <td>female</td>\n",
       "      <td>2</td>\n",
       "      <td>1</td>\n",
       "      <td>2</td>\n",
       "      <td>113781</td>\n",
       "      <td>151.55</td>\n",
       "      <td>C22 C26</td>\n",
       "      <td>S</td>\n",
       "      <td>NaN</td>\n",
       "      <td>NaN</td>\n",
       "      <td>Montreal, PQ / Chesterville, ON</td>\n",
       "    </tr>\n",
       "    <tr>\n",
       "      <th>4</th>\n",
       "      <td>1</td>\n",
       "      <td>0</td>\n",
       "      <td>Allison, Mr. Hudson Joshua Creighton</td>\n",
       "      <td>male</td>\n",
       "      <td>30</td>\n",
       "      <td>1</td>\n",
       "      <td>2</td>\n",
       "      <td>113781</td>\n",
       "      <td>151.55</td>\n",
       "      <td>C22 C26</td>\n",
       "      <td>S</td>\n",
       "      <td>NaN</td>\n",
       "      <td>135</td>\n",
       "      <td>Montreal, PQ / Chesterville, ON</td>\n",
       "    </tr>\n",
       "    <tr>\n",
       "      <th>5</th>\n",
       "      <td>1</td>\n",
       "      <td>0</td>\n",
       "      <td>Allison, Mrs. Hudson J C (Bessie Waldo Daniels)</td>\n",
       "      <td>female</td>\n",
       "      <td>25</td>\n",
       "      <td>1</td>\n",
       "      <td>2</td>\n",
       "      <td>113781</td>\n",
       "      <td>151.55</td>\n",
       "      <td>C22 C26</td>\n",
       "      <td>S</td>\n",
       "      <td>NaN</td>\n",
       "      <td>NaN</td>\n",
       "      <td>Montreal, PQ / Chesterville, ON</td>\n",
       "    </tr>\n",
       "  </tbody>\n",
       "</table>\n",
       "</div>"
      ],
      "text/plain": [
       "0 pclass survived                                             name     sex  \\\n",
       "1      1        1                    Allen, Miss. Elisabeth Walton  female   \n",
       "2      1        1                   Allison, Master. Hudson Trevor    male   \n",
       "3      1        0                     Allison, Miss. Helen Loraine  female   \n",
       "4      1        0             Allison, Mr. Hudson Joshua Creighton    male   \n",
       "5      1        0  Allison, Mrs. Hudson J C (Bessie Waldo Daniels)  female   \n",
       "\n",
       "0     age sibsp parch  ticket      fare    cabin embarked boat body  \\\n",
       "1      29     0     0   24160  211.3375       B5        S    2  NaN   \n",
       "2  0.9167     1     2  113781    151.55  C22 C26        S   11  NaN   \n",
       "3       2     1     2  113781    151.55  C22 C26        S  NaN  NaN   \n",
       "4      30     1     2  113781    151.55  C22 C26        S  NaN  135   \n",
       "5      25     1     2  113781    151.55  C22 C26        S  NaN  NaN   \n",
       "\n",
       "0                        home.dest  \n",
       "1                     St Louis, MO  \n",
       "2  Montreal, PQ / Chesterville, ON  \n",
       "3  Montreal, PQ / Chesterville, ON  \n",
       "4  Montreal, PQ / Chesterville, ON  \n",
       "5  Montreal, PQ / Chesterville, ON  "
      ]
     },
     "execution_count": 67,
     "metadata": {},
     "output_type": "execute_result"
    }
   ],
   "source": [
    "t_df.head()"
   ]
  },
  {
   "cell_type": "markdown",
   "metadata": {},
   "source": [
    "### Women and children first?\n",
    "\n",
    "*** 1. Use the `groupby` method to calculate the proportion of passengers that survived by sex. (25 pts)*** "
   ]
  },
  {
   "cell_type": "markdown",
   "metadata": {},
   "source": [
    "Lets Calculate total passengers by sex"
   ]
  },
  {
   "cell_type": "code",
   "execution_count": 68,
   "metadata": {},
   "outputs": [
    {
     "data": {
      "text/plain": [
       "sex\n",
       "female    466\n",
       "male      843\n",
       "dtype: int64"
      ]
     },
     "execution_count": 68,
     "metadata": {},
     "output_type": "execute_result"
    }
   ],
   "source": [
    "t_df.groupby('sex').size()"
   ]
  },
  {
   "cell_type": "markdown",
   "metadata": {},
   "source": [
    "Total male passengers are 843 and total female passengers are 466"
   ]
  },
  {
   "cell_type": "code",
   "execution_count": 69,
   "metadata": {},
   "outputs": [],
   "source": [
    "male_passenger_count = t_df.groupby('sex').size()[1]\n",
    "female_passenger_count = t_df.groupby('sex').size()[0]"
   ]
  },
  {
   "cell_type": "markdown",
   "metadata": {
    "tags": []
   },
   "source": [
    "Using groupby to find out total survived passengers"
   ]
  },
  {
   "cell_type": "code",
   "execution_count": 70,
   "metadata": {},
   "outputs": [
    {
     "data": {
      "text/plain": [
       "survived\n",
       "0    809\n",
       "1    500\n",
       "dtype: int64"
      ]
     },
     "execution_count": 70,
     "metadata": {},
     "output_type": "execute_result"
    }
   ],
   "source": [
    "Survived = t_df.groupby('survived')\n",
    "Survived.size()"
   ]
  },
  {
   "cell_type": "markdown",
   "metadata": {},
   "source": [
    "Total Passengers Survived are 500"
   ]
  },
  {
   "cell_type": "code",
   "execution_count": 71,
   "metadata": {},
   "outputs": [
    {
     "data": {
      "text/plain": [
       "sex\n",
       "female    339\n",
       "male      161\n",
       "dtype: int64"
      ]
     },
     "execution_count": 71,
     "metadata": {},
     "output_type": "execute_result"
    }
   ],
   "source": [
    "Gender_groupby = Survived.get_group(1).groupby('sex')\n",
    "Gender_groupby.size()"
   ]
  },
  {
   "cell_type": "code",
   "execution_count": 72,
   "metadata": {},
   "outputs": [],
   "source": [
    "male_survived = Gender_groupby.size()[1]\n",
    "female_survived = Gender_groupby.size()[0]"
   ]
  },
  {
   "cell_type": "markdown",
   "metadata": {},
   "source": [
    "Total Female survivors are 339 and Total Male survivors are 161"
   ]
  },
  {
   "cell_type": "markdown",
   "metadata": {},
   "source": [
    "#### Proportion of passengers survived"
   ]
  },
  {
   "cell_type": "code",
   "execution_count": 73,
   "metadata": {},
   "outputs": [],
   "source": [
    "#survival percentage of Female passengers\n",
    "survival_percentage_female = (female_survived/female_passenger_count)*100\n",
    "survival_percentage_male = (male_survived/male_passenger_count)*100"
   ]
  },
  {
   "cell_type": "code",
   "execution_count": 74,
   "metadata": {},
   "outputs": [
    {
     "name": "stdout",
     "output_type": "stream",
     "text": [
      "Percentage of female passengers survived :  72.747 %\n",
      "Percentage of male passengers survived :  19.098 %\n"
     ]
    }
   ],
   "source": [
    "print(\"Percentage of female passengers survived : \", round(survival_percentage_female,3),\"%\")\n",
    "print(\"Percentage of male passengers survived : \", round(survival_percentage_male,3),\"%\")"
   ]
  },
  {
   "cell_type": "markdown",
   "metadata": {},
   "source": [
    "*** 2. Calculate the same proportion, but by class and sex. (25 pts)*** "
   ]
  },
  {
   "cell_type": "markdown",
   "metadata": {},
   "source": [
    "As we have seen in the documentation above, there are three classes. i.e., 1,2 and 3"
   ]
  },
  {
   "cell_type": "markdown",
   "metadata": {},
   "source": [
    "Let us sort by class, to find class wise stats "
   ]
  },
  {
   "cell_type": "code",
   "execution_count": 75,
   "metadata": {},
   "outputs": [
    {
     "data": {
      "text/html": [
       "<div>\n",
       "<style scoped>\n",
       "    .dataframe tbody tr th:only-of-type {\n",
       "        vertical-align: middle;\n",
       "    }\n",
       "\n",
       "    .dataframe tbody tr th {\n",
       "        vertical-align: top;\n",
       "    }\n",
       "\n",
       "    .dataframe thead th {\n",
       "        text-align: right;\n",
       "    }\n",
       "</style>\n",
       "<table border=\"1\" class=\"dataframe\">\n",
       "  <thead>\n",
       "    <tr style=\"text-align: right;\">\n",
       "      <th></th>\n",
       "      <th>pclass</th>\n",
       "      <th>survived</th>\n",
       "      <th>name</th>\n",
       "      <th>sex</th>\n",
       "      <th>age</th>\n",
       "      <th>sibsp</th>\n",
       "      <th>parch</th>\n",
       "      <th>ticket</th>\n",
       "      <th>fare</th>\n",
       "      <th>cabin</th>\n",
       "      <th>embarked</th>\n",
       "      <th>boat</th>\n",
       "      <th>body</th>\n",
       "      <th>home.dest</th>\n",
       "    </tr>\n",
       "  </thead>\n",
       "  <tbody>\n",
       "    <tr>\n",
       "      <th>1</th>\n",
       "      <td>1</td>\n",
       "      <td>1</td>\n",
       "      <td>Allen, Miss. Elisabeth Walton</td>\n",
       "      <td>female</td>\n",
       "      <td>29</td>\n",
       "      <td>0</td>\n",
       "      <td>0</td>\n",
       "      <td>24160</td>\n",
       "      <td>211.3375</td>\n",
       "      <td>B5</td>\n",
       "      <td>S</td>\n",
       "      <td>2</td>\n",
       "      <td>NaN</td>\n",
       "      <td>St Louis, MO</td>\n",
       "    </tr>\n",
       "    <tr>\n",
       "      <th>2</th>\n",
       "      <td>1</td>\n",
       "      <td>1</td>\n",
       "      <td>Allison, Master. Hudson Trevor</td>\n",
       "      <td>male</td>\n",
       "      <td>0.9167</td>\n",
       "      <td>1</td>\n",
       "      <td>2</td>\n",
       "      <td>113781</td>\n",
       "      <td>151.55</td>\n",
       "      <td>C22 C26</td>\n",
       "      <td>S</td>\n",
       "      <td>11</td>\n",
       "      <td>NaN</td>\n",
       "      <td>Montreal, PQ / Chesterville, ON</td>\n",
       "    </tr>\n",
       "    <tr>\n",
       "      <th>3</th>\n",
       "      <td>1</td>\n",
       "      <td>0</td>\n",
       "      <td>Allison, Miss. Helen Loraine</td>\n",
       "      <td>female</td>\n",
       "      <td>2</td>\n",
       "      <td>1</td>\n",
       "      <td>2</td>\n",
       "      <td>113781</td>\n",
       "      <td>151.55</td>\n",
       "      <td>C22 C26</td>\n",
       "      <td>S</td>\n",
       "      <td>NaN</td>\n",
       "      <td>NaN</td>\n",
       "      <td>Montreal, PQ / Chesterville, ON</td>\n",
       "    </tr>\n",
       "    <tr>\n",
       "      <th>4</th>\n",
       "      <td>1</td>\n",
       "      <td>0</td>\n",
       "      <td>Allison, Mr. Hudson Joshua Creighton</td>\n",
       "      <td>male</td>\n",
       "      <td>30</td>\n",
       "      <td>1</td>\n",
       "      <td>2</td>\n",
       "      <td>113781</td>\n",
       "      <td>151.55</td>\n",
       "      <td>C22 C26</td>\n",
       "      <td>S</td>\n",
       "      <td>NaN</td>\n",
       "      <td>135</td>\n",
       "      <td>Montreal, PQ / Chesterville, ON</td>\n",
       "    </tr>\n",
       "    <tr>\n",
       "      <th>5</th>\n",
       "      <td>1</td>\n",
       "      <td>0</td>\n",
       "      <td>Allison, Mrs. Hudson J C (Bessie Waldo Daniels)</td>\n",
       "      <td>female</td>\n",
       "      <td>25</td>\n",
       "      <td>1</td>\n",
       "      <td>2</td>\n",
       "      <td>113781</td>\n",
       "      <td>151.55</td>\n",
       "      <td>C22 C26</td>\n",
       "      <td>S</td>\n",
       "      <td>NaN</td>\n",
       "      <td>NaN</td>\n",
       "      <td>Montreal, PQ / Chesterville, ON</td>\n",
       "    </tr>\n",
       "    <tr>\n",
       "      <th>324</th>\n",
       "      <td>2</td>\n",
       "      <td>0</td>\n",
       "      <td>Abelson, Mr. Samuel</td>\n",
       "      <td>male</td>\n",
       "      <td>30</td>\n",
       "      <td>1</td>\n",
       "      <td>0</td>\n",
       "      <td>P/PP 3381</td>\n",
       "      <td>24</td>\n",
       "      <td>NaN</td>\n",
       "      <td>C</td>\n",
       "      <td>NaN</td>\n",
       "      <td>NaN</td>\n",
       "      <td>Russia New York, NY</td>\n",
       "    </tr>\n",
       "    <tr>\n",
       "      <th>325</th>\n",
       "      <td>2</td>\n",
       "      <td>1</td>\n",
       "      <td>Abelson, Mrs. Samuel (Hannah Wizosky)</td>\n",
       "      <td>female</td>\n",
       "      <td>28</td>\n",
       "      <td>1</td>\n",
       "      <td>0</td>\n",
       "      <td>P/PP 3381</td>\n",
       "      <td>24</td>\n",
       "      <td>NaN</td>\n",
       "      <td>C</td>\n",
       "      <td>10</td>\n",
       "      <td>NaN</td>\n",
       "      <td>Russia New York, NY</td>\n",
       "    </tr>\n",
       "    <tr>\n",
       "      <th>326</th>\n",
       "      <td>2</td>\n",
       "      <td>0</td>\n",
       "      <td>Aldworth, Mr. Charles Augustus</td>\n",
       "      <td>male</td>\n",
       "      <td>30</td>\n",
       "      <td>0</td>\n",
       "      <td>0</td>\n",
       "      <td>248744</td>\n",
       "      <td>13</td>\n",
       "      <td>NaN</td>\n",
       "      <td>S</td>\n",
       "      <td>NaN</td>\n",
       "      <td>NaN</td>\n",
       "      <td>Bryn Mawr, PA, USA</td>\n",
       "    </tr>\n",
       "    <tr>\n",
       "      <th>327</th>\n",
       "      <td>2</td>\n",
       "      <td>0</td>\n",
       "      <td>Andrew, Mr. Edgardo Samuel</td>\n",
       "      <td>male</td>\n",
       "      <td>18</td>\n",
       "      <td>0</td>\n",
       "      <td>0</td>\n",
       "      <td>231945</td>\n",
       "      <td>11.5</td>\n",
       "      <td>NaN</td>\n",
       "      <td>S</td>\n",
       "      <td>NaN</td>\n",
       "      <td>NaN</td>\n",
       "      <td>Buenos Aires, Argentina / New Jersey, NJ</td>\n",
       "    </tr>\n",
       "    <tr>\n",
       "      <th>328</th>\n",
       "      <td>2</td>\n",
       "      <td>0</td>\n",
       "      <td>Andrew, Mr. Frank Thomas</td>\n",
       "      <td>male</td>\n",
       "      <td>25</td>\n",
       "      <td>0</td>\n",
       "      <td>0</td>\n",
       "      <td>C.A. 34050</td>\n",
       "      <td>10.5</td>\n",
       "      <td>NaN</td>\n",
       "      <td>S</td>\n",
       "      <td>NaN</td>\n",
       "      <td>NaN</td>\n",
       "      <td>Cornwall, England Houghton, MI</td>\n",
       "    </tr>\n",
       "    <tr>\n",
       "      <th>601</th>\n",
       "      <td>3</td>\n",
       "      <td>0</td>\n",
       "      <td>Abbing, Mr. Anthony</td>\n",
       "      <td>male</td>\n",
       "      <td>42</td>\n",
       "      <td>0</td>\n",
       "      <td>0</td>\n",
       "      <td>C.A. 5547</td>\n",
       "      <td>7.55</td>\n",
       "      <td>NaN</td>\n",
       "      <td>S</td>\n",
       "      <td>NaN</td>\n",
       "      <td>NaN</td>\n",
       "      <td>NaN</td>\n",
       "    </tr>\n",
       "    <tr>\n",
       "      <th>602</th>\n",
       "      <td>3</td>\n",
       "      <td>0</td>\n",
       "      <td>Abbott, Master. Eugene Joseph</td>\n",
       "      <td>male</td>\n",
       "      <td>13</td>\n",
       "      <td>0</td>\n",
       "      <td>2</td>\n",
       "      <td>C.A. 2673</td>\n",
       "      <td>20.25</td>\n",
       "      <td>NaN</td>\n",
       "      <td>S</td>\n",
       "      <td>NaN</td>\n",
       "      <td>NaN</td>\n",
       "      <td>East Providence, RI</td>\n",
       "    </tr>\n",
       "    <tr>\n",
       "      <th>603</th>\n",
       "      <td>3</td>\n",
       "      <td>0</td>\n",
       "      <td>Abbott, Mr. Rossmore Edward</td>\n",
       "      <td>male</td>\n",
       "      <td>16</td>\n",
       "      <td>1</td>\n",
       "      <td>1</td>\n",
       "      <td>C.A. 2673</td>\n",
       "      <td>20.25</td>\n",
       "      <td>NaN</td>\n",
       "      <td>S</td>\n",
       "      <td>NaN</td>\n",
       "      <td>190</td>\n",
       "      <td>East Providence, RI</td>\n",
       "    </tr>\n",
       "    <tr>\n",
       "      <th>604</th>\n",
       "      <td>3</td>\n",
       "      <td>1</td>\n",
       "      <td>Abbott, Mrs. Stanton (Rosa Hunt)</td>\n",
       "      <td>female</td>\n",
       "      <td>35</td>\n",
       "      <td>1</td>\n",
       "      <td>1</td>\n",
       "      <td>C.A. 2673</td>\n",
       "      <td>20.25</td>\n",
       "      <td>NaN</td>\n",
       "      <td>S</td>\n",
       "      <td>A</td>\n",
       "      <td>NaN</td>\n",
       "      <td>East Providence, RI</td>\n",
       "    </tr>\n",
       "    <tr>\n",
       "      <th>605</th>\n",
       "      <td>3</td>\n",
       "      <td>1</td>\n",
       "      <td>Abelseth, Miss. Karen Marie</td>\n",
       "      <td>female</td>\n",
       "      <td>16</td>\n",
       "      <td>0</td>\n",
       "      <td>0</td>\n",
       "      <td>348125</td>\n",
       "      <td>7.65</td>\n",
       "      <td>NaN</td>\n",
       "      <td>S</td>\n",
       "      <td>16</td>\n",
       "      <td>NaN</td>\n",
       "      <td>Norway Los Angeles, CA</td>\n",
       "    </tr>\n",
       "  </tbody>\n",
       "</table>\n",
       "</div>"
      ],
      "text/plain": [
       "0   pclass survived                                             name     sex  \\\n",
       "1        1        1                    Allen, Miss. Elisabeth Walton  female   \n",
       "2        1        1                   Allison, Master. Hudson Trevor    male   \n",
       "3        1        0                     Allison, Miss. Helen Loraine  female   \n",
       "4        1        0             Allison, Mr. Hudson Joshua Creighton    male   \n",
       "5        1        0  Allison, Mrs. Hudson J C (Bessie Waldo Daniels)  female   \n",
       "324      2        0                              Abelson, Mr. Samuel    male   \n",
       "325      2        1            Abelson, Mrs. Samuel (Hannah Wizosky)  female   \n",
       "326      2        0                   Aldworth, Mr. Charles Augustus    male   \n",
       "327      2        0                       Andrew, Mr. Edgardo Samuel    male   \n",
       "328      2        0                         Andrew, Mr. Frank Thomas    male   \n",
       "601      3        0                              Abbing, Mr. Anthony    male   \n",
       "602      3        0                    Abbott, Master. Eugene Joseph    male   \n",
       "603      3        0                      Abbott, Mr. Rossmore Edward    male   \n",
       "604      3        1                 Abbott, Mrs. Stanton (Rosa Hunt)  female   \n",
       "605      3        1                      Abelseth, Miss. Karen Marie  female   \n",
       "\n",
       "0       age sibsp parch      ticket      fare    cabin embarked boat body  \\\n",
       "1        29     0     0       24160  211.3375       B5        S    2  NaN   \n",
       "2    0.9167     1     2      113781    151.55  C22 C26        S   11  NaN   \n",
       "3         2     1     2      113781    151.55  C22 C26        S  NaN  NaN   \n",
       "4        30     1     2      113781    151.55  C22 C26        S  NaN  135   \n",
       "5        25     1     2      113781    151.55  C22 C26        S  NaN  NaN   \n",
       "324      30     1     0   P/PP 3381        24      NaN        C  NaN  NaN   \n",
       "325      28     1     0   P/PP 3381        24      NaN        C   10  NaN   \n",
       "326      30     0     0      248744        13      NaN        S  NaN  NaN   \n",
       "327      18     0     0      231945      11.5      NaN        S  NaN  NaN   \n",
       "328      25     0     0  C.A. 34050      10.5      NaN        S  NaN  NaN   \n",
       "601      42     0     0   C.A. 5547      7.55      NaN        S  NaN  NaN   \n",
       "602      13     0     2   C.A. 2673     20.25      NaN        S  NaN  NaN   \n",
       "603      16     1     1   C.A. 2673     20.25      NaN        S  NaN  190   \n",
       "604      35     1     1   C.A. 2673     20.25      NaN        S    A  NaN   \n",
       "605      16     0     0      348125      7.65      NaN        S   16  NaN   \n",
       "\n",
       "0                                   home.dest  \n",
       "1                                St Louis, MO  \n",
       "2             Montreal, PQ / Chesterville, ON  \n",
       "3             Montreal, PQ / Chesterville, ON  \n",
       "4             Montreal, PQ / Chesterville, ON  \n",
       "5             Montreal, PQ / Chesterville, ON  \n",
       "324                       Russia New York, NY  \n",
       "325                       Russia New York, NY  \n",
       "326                        Bryn Mawr, PA, USA  \n",
       "327  Buenos Aires, Argentina / New Jersey, NJ  \n",
       "328            Cornwall, England Houghton, MI  \n",
       "601                                       NaN  \n",
       "602                       East Providence, RI  \n",
       "603                       East Providence, RI  \n",
       "604                       East Providence, RI  \n",
       "605                    Norway Los Angeles, CA  "
      ]
     },
     "execution_count": 75,
     "metadata": {},
     "output_type": "execute_result"
    }
   ],
   "source": [
    "Class_groupby = t_df.groupby('pclass')\n",
    "Class_groupby.head(5)"
   ]
  },
  {
   "cell_type": "markdown",
   "metadata": {},
   "source": [
    "#### Class 1 "
   ]
  },
  {
   "cell_type": "code",
   "execution_count": 76,
   "metadata": {},
   "outputs": [
    {
     "data": {
      "text/html": [
       "<div>\n",
       "<style scoped>\n",
       "    .dataframe tbody tr th:only-of-type {\n",
       "        vertical-align: middle;\n",
       "    }\n",
       "\n",
       "    .dataframe tbody tr th {\n",
       "        vertical-align: top;\n",
       "    }\n",
       "\n",
       "    .dataframe thead th {\n",
       "        text-align: right;\n",
       "    }\n",
       "</style>\n",
       "<table border=\"1\" class=\"dataframe\">\n",
       "  <thead>\n",
       "    <tr style=\"text-align: right;\">\n",
       "      <th></th>\n",
       "      <th>pclass</th>\n",
       "      <th>survived</th>\n",
       "      <th>name</th>\n",
       "      <th>sex</th>\n",
       "      <th>age</th>\n",
       "      <th>sibsp</th>\n",
       "      <th>parch</th>\n",
       "      <th>ticket</th>\n",
       "      <th>fare</th>\n",
       "      <th>cabin</th>\n",
       "      <th>embarked</th>\n",
       "      <th>boat</th>\n",
       "      <th>body</th>\n",
       "      <th>home.dest</th>\n",
       "    </tr>\n",
       "  </thead>\n",
       "  <tbody>\n",
       "    <tr>\n",
       "      <th>1</th>\n",
       "      <td>1</td>\n",
       "      <td>1</td>\n",
       "      <td>Allen, Miss. Elisabeth Walton</td>\n",
       "      <td>female</td>\n",
       "      <td>29</td>\n",
       "      <td>0</td>\n",
       "      <td>0</td>\n",
       "      <td>24160</td>\n",
       "      <td>211.3375</td>\n",
       "      <td>B5</td>\n",
       "      <td>S</td>\n",
       "      <td>2</td>\n",
       "      <td>NaN</td>\n",
       "      <td>St Louis, MO</td>\n",
       "    </tr>\n",
       "    <tr>\n",
       "      <th>2</th>\n",
       "      <td>1</td>\n",
       "      <td>1</td>\n",
       "      <td>Allison, Master. Hudson Trevor</td>\n",
       "      <td>male</td>\n",
       "      <td>0.9167</td>\n",
       "      <td>1</td>\n",
       "      <td>2</td>\n",
       "      <td>113781</td>\n",
       "      <td>151.55</td>\n",
       "      <td>C22 C26</td>\n",
       "      <td>S</td>\n",
       "      <td>11</td>\n",
       "      <td>NaN</td>\n",
       "      <td>Montreal, PQ / Chesterville, ON</td>\n",
       "    </tr>\n",
       "    <tr>\n",
       "      <th>3</th>\n",
       "      <td>1</td>\n",
       "      <td>0</td>\n",
       "      <td>Allison, Miss. Helen Loraine</td>\n",
       "      <td>female</td>\n",
       "      <td>2</td>\n",
       "      <td>1</td>\n",
       "      <td>2</td>\n",
       "      <td>113781</td>\n",
       "      <td>151.55</td>\n",
       "      <td>C22 C26</td>\n",
       "      <td>S</td>\n",
       "      <td>NaN</td>\n",
       "      <td>NaN</td>\n",
       "      <td>Montreal, PQ / Chesterville, ON</td>\n",
       "    </tr>\n",
       "    <tr>\n",
       "      <th>4</th>\n",
       "      <td>1</td>\n",
       "      <td>0</td>\n",
       "      <td>Allison, Mr. Hudson Joshua Creighton</td>\n",
       "      <td>male</td>\n",
       "      <td>30</td>\n",
       "      <td>1</td>\n",
       "      <td>2</td>\n",
       "      <td>113781</td>\n",
       "      <td>151.55</td>\n",
       "      <td>C22 C26</td>\n",
       "      <td>S</td>\n",
       "      <td>NaN</td>\n",
       "      <td>135</td>\n",
       "      <td>Montreal, PQ / Chesterville, ON</td>\n",
       "    </tr>\n",
       "    <tr>\n",
       "      <th>5</th>\n",
       "      <td>1</td>\n",
       "      <td>0</td>\n",
       "      <td>Allison, Mrs. Hudson J C (Bessie Waldo Daniels)</td>\n",
       "      <td>female</td>\n",
       "      <td>25</td>\n",
       "      <td>1</td>\n",
       "      <td>2</td>\n",
       "      <td>113781</td>\n",
       "      <td>151.55</td>\n",
       "      <td>C22 C26</td>\n",
       "      <td>S</td>\n",
       "      <td>NaN</td>\n",
       "      <td>NaN</td>\n",
       "      <td>Montreal, PQ / Chesterville, ON</td>\n",
       "    </tr>\n",
       "  </tbody>\n",
       "</table>\n",
       "</div>"
      ],
      "text/plain": [
       "0 pclass survived                                             name     sex  \\\n",
       "1      1        1                    Allen, Miss. Elisabeth Walton  female   \n",
       "2      1        1                   Allison, Master. Hudson Trevor    male   \n",
       "3      1        0                     Allison, Miss. Helen Loraine  female   \n",
       "4      1        0             Allison, Mr. Hudson Joshua Creighton    male   \n",
       "5      1        0  Allison, Mrs. Hudson J C (Bessie Waldo Daniels)  female   \n",
       "\n",
       "0     age sibsp parch  ticket      fare    cabin embarked boat body  \\\n",
       "1      29     0     0   24160  211.3375       B5        S    2  NaN   \n",
       "2  0.9167     1     2  113781    151.55  C22 C26        S   11  NaN   \n",
       "3       2     1     2  113781    151.55  C22 C26        S  NaN  NaN   \n",
       "4      30     1     2  113781    151.55  C22 C26        S  NaN  135   \n",
       "5      25     1     2  113781    151.55  C22 C26        S  NaN  NaN   \n",
       "\n",
       "0                        home.dest  \n",
       "1                     St Louis, MO  \n",
       "2  Montreal, PQ / Chesterville, ON  \n",
       "3  Montreal, PQ / Chesterville, ON  \n",
       "4  Montreal, PQ / Chesterville, ON  \n",
       "5  Montreal, PQ / Chesterville, ON  "
      ]
     },
     "execution_count": 76,
     "metadata": {},
     "output_type": "execute_result"
    }
   ],
   "source": [
    "Class_1 = Class_groupby.get_group(1)\n",
    "Class_1.head()"
   ]
  },
  {
   "cell_type": "code",
   "execution_count": 77,
   "metadata": {},
   "outputs": [
    {
     "name": "stdout",
     "output_type": "stream",
     "text": [
      "Class 1 total passengers\n"
     ]
    },
    {
     "data": {
      "text/plain": [
       "sex\n",
       "female    144\n",
       "male      179\n",
       "dtype: int64"
      ]
     },
     "execution_count": 77,
     "metadata": {},
     "output_type": "execute_result"
    }
   ],
   "source": [
    "print(\"Class 1 total passengers\")\n",
    "Class_1.groupby('sex').size()"
   ]
  },
  {
   "cell_type": "code",
   "execution_count": 78,
   "metadata": {},
   "outputs": [],
   "source": [
    "Class_1_total_female = Class_1.groupby('sex').size()[0]\n",
    "Class_1_total_male = Class_1.groupby('sex').size()[1]"
   ]
  },
  {
   "cell_type": "code",
   "execution_count": 79,
   "metadata": {},
   "outputs": [],
   "source": [
    "Class_1_survived = Class_1.groupby('survived').get_group(1)"
   ]
  },
  {
   "cell_type": "code",
   "execution_count": 80,
   "metadata": {},
   "outputs": [],
   "source": [
    "Class_1_survived.to_csv('../data/Class_1_survived.csv',index=False)"
   ]
  },
  {
   "cell_type": "code",
   "execution_count": 81,
   "metadata": {},
   "outputs": [],
   "source": [
    "Class_1_survived_sex = Class_1_survived.groupby('sex')"
   ]
  },
  {
   "cell_type": "code",
   "execution_count": 82,
   "metadata": {},
   "outputs": [
    {
     "name": "stdout",
     "output_type": "stream",
     "text": [
      "Class 1 total survivors\n"
     ]
    },
    {
     "data": {
      "text/plain": [
       "sex\n",
       "female    139\n",
       "male       61\n",
       "dtype: int64"
      ]
     },
     "execution_count": 82,
     "metadata": {},
     "output_type": "execute_result"
    }
   ],
   "source": [
    "print(\"Class 1 total survivors\")\n",
    "Class_1_survived_sex.size()"
   ]
  },
  {
   "cell_type": "code",
   "execution_count": 83,
   "metadata": {},
   "outputs": [],
   "source": [
    "Class_1_survived_female = Class_1_survived_sex.size()[0]\n",
    "Class_1_survived_male = Class_1_survived_sex.size()[1]"
   ]
  },
  {
   "cell_type": "markdown",
   "metadata": {},
   "source": [
    "#### Class 1 survival stats"
   ]
  },
  {
   "cell_type": "code",
   "execution_count": 84,
   "metadata": {},
   "outputs": [
    {
     "name": "stdout",
     "output_type": "stream",
     "text": [
      "Percentage of female passengers survived in Class 1 :  96.53 %\n",
      "Percentage of male passengers survived in Class 1:  34.08 %\n"
     ]
    }
   ],
   "source": [
    "#survival percentage of Female passengers\n",
    "survival_percentage_female = (Class_1_survived_female/Class_1_total_female)*100\n",
    "survival_percentage_male = (Class_1_survived_male/Class_1_total_male)*100\n",
    "print(\"Percentage of female passengers survived in Class 1 : \", round(survival_percentage_female,2),\"%\")\n",
    "print(\"Percentage of male passengers survived in Class 1: \", round(survival_percentage_male,2),\"%\")"
   ]
  },
  {
   "cell_type": "markdown",
   "metadata": {},
   "source": [
    "Class 2"
   ]
  },
  {
   "cell_type": "code",
   "execution_count": 85,
   "metadata": {},
   "outputs": [
    {
     "name": "stdout",
     "output_type": "stream",
     "text": [
      "Class 2 total passengers\n"
     ]
    },
    {
     "data": {
      "text/plain": [
       "sex\n",
       "female    106\n",
       "male      171\n",
       "dtype: int64"
      ]
     },
     "execution_count": 85,
     "metadata": {},
     "output_type": "execute_result"
    }
   ],
   "source": [
    "Class_2 = Class_groupby.get_group(2)\n",
    "print(\"Class 2 total passengers\")\n",
    "Class_2.groupby('sex').size()"
   ]
  },
  {
   "cell_type": "code",
   "execution_count": 86,
   "metadata": {},
   "outputs": [
    {
     "name": "stdout",
     "output_type": "stream",
     "text": [
      "Class 2 total survivors\n"
     ]
    },
    {
     "data": {
      "text/plain": [
       "sex\n",
       "female    94\n",
       "male      25\n",
       "dtype: int64"
      ]
     },
     "execution_count": 86,
     "metadata": {},
     "output_type": "execute_result"
    }
   ],
   "source": [
    "Class_2_total_female = Class_2.groupby('sex').size()[0]\n",
    "Class_2_total_male = Class_2.groupby('sex').size()[1]\n",
    "Class_2_survived = Class_2.groupby('survived').get_group(1)\n",
    "Class_2_survived.to_csv('../data/Class_2_survived.csv',index=False)\n",
    "Class_2_survived_sex = Class_2_survived.groupby('sex')\n",
    "print(\"Class 2 total survivors\")\n",
    "Class_2_survived_sex.size()"
   ]
  },
  {
   "cell_type": "code",
   "execution_count": 87,
   "metadata": {},
   "outputs": [],
   "source": [
    "Class_2_survived_female = Class_2_survived_sex.size()[0]\n",
    "Class_2_survived_male = Class_2_survived_sex.size()[1]"
   ]
  },
  {
   "cell_type": "markdown",
   "metadata": {},
   "source": [
    "#### Class 2 survival stats"
   ]
  },
  {
   "cell_type": "code",
   "execution_count": 88,
   "metadata": {},
   "outputs": [
    {
     "name": "stdout",
     "output_type": "stream",
     "text": [
      "Percentage of female passengers survived in Class 2 :  88.68 %\n",
      "Percentage of male passengers survived in Class 2:  14.62 %\n"
     ]
    }
   ],
   "source": [
    "#survival percentage of Female passengers\n",
    "survival_percentage_female = (Class_2_survived_female/Class_2_total_female)*100\n",
    "survival_percentage_male = (Class_2_survived_male/Class_2_total_male)*100\n",
    "print(\"Percentage of female passengers survived in Class 2 : \", round(survival_percentage_female,2),\"%\")\n",
    "print(\"Percentage of male passengers survived in Class 2: \", round(survival_percentage_male,2),\"%\")"
   ]
  },
  {
   "cell_type": "markdown",
   "metadata": {},
   "source": [
    "Class 3"
   ]
  },
  {
   "cell_type": "code",
   "execution_count": 89,
   "metadata": {},
   "outputs": [
    {
     "name": "stdout",
     "output_type": "stream",
     "text": [
      "Class 3 total passengers\n"
     ]
    },
    {
     "data": {
      "text/plain": [
       "sex\n",
       "female    216\n",
       "male      493\n",
       "dtype: int64"
      ]
     },
     "execution_count": 89,
     "metadata": {},
     "output_type": "execute_result"
    }
   ],
   "source": [
    "Class_3 = Class_groupby.get_group(3)\n",
    "print(\"Class 3 total passengers\")\n",
    "Class_3.groupby('sex').size()"
   ]
  },
  {
   "cell_type": "code",
   "execution_count": 90,
   "metadata": {},
   "outputs": [
    {
     "name": "stdout",
     "output_type": "stream",
     "text": [
      "Class 3 total survivors\n"
     ]
    },
    {
     "data": {
      "text/plain": [
       "sex\n",
       "female    106\n",
       "male       75\n",
       "dtype: int64"
      ]
     },
     "execution_count": 90,
     "metadata": {},
     "output_type": "execute_result"
    }
   ],
   "source": [
    "Class_3_total_female = Class_3.groupby('sex').size()[0]\n",
    "Class_3_total_male = Class_3.groupby('sex').size()[1]\n",
    "Class_3_survived = Class_3.groupby('survived').get_group(1)\n",
    "Class_3_survived.to_csv('../data/Class_3_survived.csv',index=False)\n",
    "Class_3_survived_sex = Class_3_survived.groupby('sex')\n",
    "print(\"Class 3 total survivors\")\n",
    "Class_3_survived_sex.size()"
   ]
  },
  {
   "cell_type": "code",
   "execution_count": 91,
   "metadata": {},
   "outputs": [],
   "source": [
    "Class_3_survived_female = Class_3_survived_sex.size()[0]\n",
    "Class_3_survived_male = Class_3_survived_sex.size()[1]"
   ]
  },
  {
   "cell_type": "code",
   "execution_count": 92,
   "metadata": {},
   "outputs": [
    {
     "name": "stdout",
     "output_type": "stream",
     "text": [
      "Percentage of female passengers survived in Class 3 :  49.07 %\n",
      "Percentage of male passengers survived in Class 3:  15.21 %\n"
     ]
    }
   ],
   "source": [
    "#survival percentage of Female passengers\n",
    "survival_percentage_female = (Class_3_survived_female/Class_3_total_female)*100\n",
    "survival_percentage_male = (Class_3_survived_male/Class_3_total_male)*100\n",
    "print(\"Percentage of female passengers survived in Class 3 : \", round(survival_percentage_female,2),\"%\")\n",
    "print(\"Percentage of male passengers survived in Class 3: \", round(survival_percentage_male,2),\"%\")"
   ]
  },
  {
   "cell_type": "markdown",
   "metadata": {},
   "source": [
    "*** 3. Create age categories: children (under 14 years), adolescents (14-20), adult (21-64), and senior(65+), and calculate survival proportions by age category, class and sex. (40 pts)***"
   ]
  },
  {
   "cell_type": "code",
   "execution_count": 93,
   "metadata": {},
   "outputs": [],
   "source": [
    "#creating masks for each age group\n",
    "children_mask = (t_df.age < 14)\n",
    "adolescent_mask = (t_df.age >= 14) & (t_df.age <= 20)\n",
    "adult_mask = (t_df.age >= 21) & (t_df.age <= 64)\n",
    "senior_mask = (t_df.age >= 65)"
   ]
  },
  {
   "cell_type": "code",
   "execution_count": 94,
   "metadata": {},
   "outputs": [],
   "source": [
    "#creating separate dataframes for each age group\n",
    "children_df = t_df[children_mask]\n",
    "adolescent_df = t_df[adolescent_mask]\n",
    "adult_df = t_df[adult_mask]\n",
    "senior_df = t_df[senior_mask]"
   ]
  },
  {
   "cell_type": "markdown",
   "metadata": {},
   "source": [
    "#### Children "
   ]
  },
  {
   "cell_type": "code",
   "execution_count": 95,
   "metadata": {},
   "outputs": [],
   "source": [
    "Class_groupby = children_df.groupby('pclass')"
   ]
  },
  {
   "cell_type": "code",
   "execution_count": 96,
   "metadata": {},
   "outputs": [
    {
     "name": "stdout",
     "output_type": "stream",
     "text": [
      "Class 1 total passengers\n"
     ]
    },
    {
     "data": {
      "text/plain": [
       "sex\n",
       "female    1\n",
       "male      5\n",
       "dtype: int64"
      ]
     },
     "execution_count": 96,
     "metadata": {},
     "output_type": "execute_result"
    }
   ],
   "source": [
    "# Class 1\n",
    "Class_1 = Class_groupby.get_group(1)\n",
    "print(\"Class 1 total passengers\")\n",
    "Class_1.groupby('sex').size()"
   ]
  },
  {
   "cell_type": "code",
   "execution_count": 97,
   "metadata": {},
   "outputs": [],
   "source": [
    "Class_1_total_female = Class_1.groupby('sex').size()[0]\n",
    "Class_1_total_male = Class_1.groupby('sex').size()[1]"
   ]
  },
  {
   "cell_type": "code",
   "execution_count": 98,
   "metadata": {},
   "outputs": [
    {
     "name": "stdout",
     "output_type": "stream",
     "text": [
      "Class 1 total survivors\n"
     ]
    },
    {
     "data": {
      "text/plain": [
       "sex\n",
       "male    5\n",
       "dtype: int64"
      ]
     },
     "execution_count": 98,
     "metadata": {},
     "output_type": "execute_result"
    }
   ],
   "source": [
    "Class_1_survived = Class_1.groupby('survived').get_group(1)\n",
    "children_class_1_survived_sex = Class_1_survived.groupby('sex')\n",
    "print(\"Class 1 total survivors\")\n",
    "children_class_1_survived_sex.size()"
   ]
  },
  {
   "cell_type": "markdown",
   "metadata": {},
   "source": [
    "In class 1, there are 5 male survivors and 0 female survivors"
   ]
  },
  {
   "cell_type": "code",
   "execution_count": 99,
   "metadata": {},
   "outputs": [],
   "source": [
    "Class_1_total_female_survivors = 0\n",
    "Class_1_total_male_survivors = children_class_1_survived_sex.size()[0]"
   ]
  },
  {
   "cell_type": "code",
   "execution_count": 100,
   "metadata": {},
   "outputs": [],
   "source": [
    "# Calculating children class 1 stats\n",
    "survival_percentage_female_class1_children = (Class_1_total_female_survivors/Class_1_total_female)*100\n",
    "survival_percentage_male_class1_children = (Class_1_total_male_survivors/Class_1_total_male)*100"
   ]
  },
  {
   "cell_type": "code",
   "execution_count": 101,
   "metadata": {},
   "outputs": [
    {
     "name": "stdout",
     "output_type": "stream",
     "text": [
      "Class 2 total passengers\n"
     ]
    },
    {
     "data": {
      "text/plain": [
       "sex\n",
       "female    14\n",
       "male      11\n",
       "dtype: int64"
      ]
     },
     "execution_count": 101,
     "metadata": {},
     "output_type": "execute_result"
    }
   ],
   "source": [
    "#Class 2\n",
    "Class_2 = Class_groupby.get_group(2)\n",
    "print(\"Class 2 total passengers\")\n",
    "Class_2.groupby('sex').size()"
   ]
  },
  {
   "cell_type": "code",
   "execution_count": 102,
   "metadata": {},
   "outputs": [
    {
     "name": "stdout",
     "output_type": "stream",
     "text": [
      "Class 2 total survivors\n"
     ]
    },
    {
     "data": {
      "text/plain": [
       "sex\n",
       "female    14\n",
       "male      11\n",
       "dtype: int64"
      ]
     },
     "execution_count": 102,
     "metadata": {},
     "output_type": "execute_result"
    }
   ],
   "source": [
    "Class_2_total_female = Class_2.groupby('sex').size()[0]\n",
    "Class_2_total_male = Class_2.groupby('sex').size()[1]\n",
    "Class_2_survived = Class_2.groupby('survived').get_group(1)\n",
    "Class_2_survived_sex = Class_2_survived.groupby('sex')\n",
    "print(\"Class 2 total survivors\")\n",
    "Class_2_survived_sex.size()"
   ]
  },
  {
   "cell_type": "markdown",
   "metadata": {},
   "source": [
    "We can see that all of the passsengers survived in class 2"
   ]
  },
  {
   "cell_type": "code",
   "execution_count": 103,
   "metadata": {},
   "outputs": [],
   "source": [
    "Class_2_survived_female = Class_2_survived_sex.size()[0]\n",
    "Class_2_survived_male = Class_2_survived_sex.size()[1]"
   ]
  },
  {
   "cell_type": "code",
   "execution_count": 104,
   "metadata": {},
   "outputs": [],
   "source": [
    "survival_percentage_female_class2_children = (Class_2_survived_female/Class_2_total_female)*100\n",
    "survival_percentage_male_class2_children = (Class_2_survived_male/Class_2_total_male)*100"
   ]
  },
  {
   "cell_type": "code",
   "execution_count": 105,
   "metadata": {},
   "outputs": [
    {
     "name": "stdout",
     "output_type": "stream",
     "text": [
      "Class 3 total passengers\n"
     ]
    },
    {
     "data": {
      "text/plain": [
       "sex\n",
       "female    31\n",
       "male      37\n",
       "dtype: int64"
      ]
     },
     "execution_count": 105,
     "metadata": {},
     "output_type": "execute_result"
    }
   ],
   "source": [
    "#Class 3\n",
    "Class_3 = Class_groupby.get_group(3)\n",
    "print(\"Class 3 total passengers\")\n",
    "Class_3.groupby('sex').size()"
   ]
  },
  {
   "cell_type": "code",
   "execution_count": 106,
   "metadata": {},
   "outputs": [
    {
     "name": "stdout",
     "output_type": "stream",
     "text": [
      "Class 3 total survivors\n"
     ]
    },
    {
     "data": {
      "text/plain": [
       "sex\n",
       "female    15\n",
       "male      12\n",
       "dtype: int64"
      ]
     },
     "execution_count": 106,
     "metadata": {},
     "output_type": "execute_result"
    }
   ],
   "source": [
    "Class_3_total_female = Class_3.groupby('sex').size()[0]\n",
    "Class_3_total_male = Class_3.groupby('sex').size()[1]\n",
    "Class_3_survived = Class_3.groupby('survived').get_group(1)\n",
    "Class_3_survived_sex = Class_3_survived.groupby('sex')\n",
    "print(\"Class 3 total survivors\")\n",
    "Class_3_survived_sex.size()"
   ]
  },
  {
   "cell_type": "code",
   "execution_count": 107,
   "metadata": {},
   "outputs": [],
   "source": [
    "Class_3_survived_female = Class_3_survived_sex.size()[0]\n",
    "Class_3_survived_male = Class_3_survived_sex.size()[1]"
   ]
  },
  {
   "cell_type": "code",
   "execution_count": 108,
   "metadata": {},
   "outputs": [],
   "source": [
    "survival_percentage_female_class3_children = (Class_3_survived_female/Class_3_total_female)*100\n",
    "survival_percentage_male_class3_children = (Class_3_survived_male/Class_3_total_male)*100"
   ]
  },
  {
   "cell_type": "markdown",
   "metadata": {},
   "source": [
    "Adolescent"
   ]
  },
  {
   "cell_type": "code",
   "execution_count": 109,
   "metadata": {},
   "outputs": [],
   "source": [
    "Class_groupby = adolescent_df.groupby('pclass')"
   ]
  },
  {
   "cell_type": "code",
   "execution_count": 110,
   "metadata": {},
   "outputs": [
    {
     "name": "stdout",
     "output_type": "stream",
     "text": [
      "Class 1 total passengers\n",
      "sex\n",
      "female    15\n",
      "male       5\n",
      "dtype: int64\n",
      "Class 1 total survivors\n",
      "sex\n",
      "female    15\n",
      "male       1\n",
      "dtype: int64\n"
     ]
    }
   ],
   "source": [
    "#class 1\n",
    "Class_1 = Class_groupby.get_group(1)\n",
    "print(\"Class 1 total passengers\")\n",
    "print(Class_1.groupby('sex').size())\n",
    "Class_1_total_female = Class_1.groupby('sex').size()[0]\n",
    "Class_1_total_male = Class_1.groupby('sex').size()[1]\n",
    "Class_1_survived = Class_1.groupby('survived').get_group(1)\n",
    "children_class_1_survived_sex = Class_1_survived.groupby('sex')\n",
    "print(\"Class 1 total survivors\")\n",
    "print(children_class_1_survived_sex.size())\n",
    "Class_1_total_female_survivors = children_class_1_survived_sex.size()[0]\n",
    "Class_1_total_male_survivors = children_class_1_survived_sex.size()[1]\n",
    "survival_percentage_female_class1_adolescent = (Class_1_total_female_survivors/Class_1_total_female)*100\n",
    "survival_percentage_male_class1_adolescent = (Class_1_total_male_survivors/Class_1_total_male)*100"
   ]
  },
  {
   "cell_type": "code",
   "execution_count": 111,
   "metadata": {},
   "outputs": [
    {
     "name": "stdout",
     "output_type": "stream",
     "text": [
      "Class 2 total passengers\n",
      "sex\n",
      "female    13\n",
      "male      17\n",
      "dtype: int64\n",
      "Class 2 total survivors\n",
      "sex\n",
      "female    12\n",
      "male       2\n",
      "dtype: int64\n"
     ]
    }
   ],
   "source": [
    "# Class 2\n",
    "Class_2 = Class_groupby.get_group(2)\n",
    "print(\"Class 2 total passengers\")\n",
    "print(Class_2.groupby('sex').size())\n",
    "Class_2_total_female = Class_2.groupby('sex').size()[0]\n",
    "Class_2_total_male = Class_2.groupby('sex').size()[1]\n",
    "Class_2_survived = Class_2.groupby('survived').get_group(1)\n",
    "children_class_2_survived_sex = Class_2_survived.groupby('sex')\n",
    "print(\"Class 2 total survivors\")\n",
    "print(children_class_2_survived_sex.size())\n",
    "Class_2_total_female_survivors = children_class_2_survived_sex.size()[0]\n",
    "Class_2_total_male_survivors = children_class_2_survived_sex.size()[1]\n",
    "survival_percentage_female_class2_adolescent = (Class_2_total_female_survivors/Class_2_total_female)*100\n",
    "survival_percentage_male_class2_adolescent = (Class_2_total_male_survivors/Class_2_total_male)*100\n"
   ]
  },
  {
   "cell_type": "code",
   "execution_count": 112,
   "metadata": {},
   "outputs": [
    {
     "name": "stdout",
     "output_type": "stream",
     "text": [
      "Class 3 total passengers\n",
      "sex\n",
      "female    35\n",
      "male      64\n",
      "dtype: int64\n",
      "Class 3 total survivors\n",
      "sex\n",
      "female    19\n",
      "male       8\n",
      "dtype: int64\n"
     ]
    }
   ],
   "source": [
    "# Class 3\n",
    "Class_3 = Class_groupby.get_group(3)\n",
    "print(\"Class 3 total passengers\")\n",
    "print(Class_3.groupby('sex').size())\n",
    "Class_3_total_female = Class_3.groupby('sex').size()[0]\n",
    "Class_3_total_male = Class_3.groupby('sex').size()[1]\n",
    "Class_3_survived = Class_3.groupby('survived').get_group(1)\n",
    "children_class_3_survived_sex = Class_3_survived.groupby('sex')\n",
    "print(\"Class 3 total survivors\")\n",
    "print(children_class_3_survived_sex.size())\n",
    "Class_3_total_female_survivors = children_class_3_survived_sex.size()[0]\n",
    "Class_3_total_male_survivors = children_class_3_survived_sex.size()[1]\n",
    "survival_percentage_female_class3_adolescent = (Class_3_total_female_survivors/Class_3_total_female)*100\n",
    "survival_percentage_male_class3_adolescent = (Class_3_total_male_survivors/Class_3_total_male)*100\n"
   ]
  },
  {
   "cell_type": "markdown",
   "metadata": {},
   "source": [
    "Adults"
   ]
  },
  {
   "cell_type": "code",
   "execution_count": 113,
   "metadata": {},
   "outputs": [],
   "source": [
    "Class_groupby = adult_df.groupby('pclass')"
   ]
  },
  {
   "cell_type": "code",
   "execution_count": 114,
   "metadata": {},
   "outputs": [
    {
     "name": "stdout",
     "output_type": "stream",
     "text": [
      "Class 1 total passengers\n",
      "sex\n",
      "female    116\n",
      "male      134\n",
      "dtype: int64\n",
      "Class 1 total survivors\n",
      "sex\n",
      "female    112\n",
      "male       46\n",
      "dtype: int64\n"
     ]
    }
   ],
   "source": [
    "#class 1\n",
    "Class_1 = Class_groupby.get_group(1)\n",
    "print(\"Class 1 total passengers\")\n",
    "print(Class_1.groupby('sex').size())\n",
    "Class_1_total_female = Class_1.groupby('sex').size()[0]\n",
    "Class_1_total_male = Class_1.groupby('sex').size()[1]\n",
    "Class_1_survived = Class_1.groupby('survived').get_group(1)\n",
    "children_class_1_survived_sex = Class_1_survived.groupby('sex')\n",
    "print(\"Class 1 total survivors\")\n",
    "print(children_class_1_survived_sex.size())\n",
    "Class_1_total_female_survivors = children_class_1_survived_sex.size()[0]\n",
    "Class_1_total_male_survivors = children_class_1_survived_sex.size()[1]\n",
    "survival_percentage_female_class1_adult = (Class_1_total_female_survivors/Class_1_total_female)*100\n",
    "survival_percentage_male_class1_adult = (Class_1_total_male_survivors/Class_1_total_male)*100"
   ]
  },
  {
   "cell_type": "code",
   "execution_count": 115,
   "metadata": {},
   "outputs": [
    {
     "name": "stdout",
     "output_type": "stream",
     "text": [
      "Class 2 total passengers\n",
      "sex\n",
      "female     76\n",
      "male      128\n",
      "dtype: int64\n",
      "Class 2 total survivors\n",
      "sex\n",
      "female    66\n",
      "male      10\n",
      "dtype: int64\n"
     ]
    }
   ],
   "source": [
    "# Class 2\n",
    "Class_2 = Class_groupby.get_group(2)\n",
    "print(\"Class 2 total passengers\")\n",
    "print(Class_2.groupby('sex').size())\n",
    "Class_2_total_female = Class_2.groupby('sex').size()[0]\n",
    "Class_2_total_male = Class_2.groupby('sex').size()[1]\n",
    "Class_2_survived = Class_2.groupby('survived').get_group(1)\n",
    "children_class_2_survived_sex = Class_2_survived.groupby('sex')\n",
    "print(\"Class 2 total survivors\")\n",
    "print(children_class_2_survived_sex.size())\n",
    "Class_2_total_female_survivors = children_class_2_survived_sex.size()[0]\n",
    "Class_2_total_male_survivors = children_class_2_survived_sex.size()[1]\n",
    "survival_percentage_female_class2_adult = (Class_2_total_female_survivors/Class_2_total_female)*100\n",
    "survival_percentage_male_class2_adult = (Class_2_total_male_survivors/Class_2_total_male)*100\n"
   ]
  },
  {
   "cell_type": "code",
   "execution_count": 116,
   "metadata": {},
   "outputs": [
    {
     "name": "stdout",
     "output_type": "stream",
     "text": [
      "Class 3 total passengers\n",
      "sex\n",
      "female     86\n",
      "male      244\n",
      "dtype: int64\n",
      "Class 3 total survivors\n",
      "sex\n",
      "female    38\n",
      "male      39\n",
      "dtype: int64\n"
     ]
    }
   ],
   "source": [
    "# Class 3\n",
    "Class_3 = Class_groupby.get_group(3)\n",
    "print(\"Class 3 total passengers\")\n",
    "print(Class_3.groupby('sex').size())\n",
    "Class_3_total_female = Class_3.groupby('sex').size()[0]\n",
    "Class_3_total_male = Class_3.groupby('sex').size()[1]\n",
    "Class_3_survived = Class_3.groupby('survived').get_group(1)\n",
    "children_class_3_survived_sex = Class_3_survived.groupby('sex')\n",
    "print(\"Class 3 total survivors\")\n",
    "print(children_class_3_survived_sex.size())\n",
    "Class_3_total_female_survivors = children_class_3_survived_sex.size()[0]\n",
    "Class_3_total_male_survivors = children_class_3_survived_sex.size()[1]\n",
    "survival_percentage_female_class3_adult = (Class_3_total_female_survivors/Class_3_total_female)*100\n",
    "survival_percentage_male_class3_adult = (Class_3_total_male_survivors/Class_3_total_male)*100"
   ]
  },
  {
   "cell_type": "markdown",
   "metadata": {},
   "source": [
    "Senior"
   ]
  },
  {
   "cell_type": "code",
   "execution_count": 117,
   "metadata": {},
   "outputs": [],
   "source": [
    "Class_groupby = senior_df.groupby('pclass')"
   ]
  },
  {
   "cell_type": "code",
   "execution_count": 118,
   "metadata": {},
   "outputs": [
    {
     "name": "stdout",
     "output_type": "stream",
     "text": [
      "Class 1 total passengers\n",
      "sex\n",
      "female    1\n",
      "male      7\n",
      "dtype: int64\n",
      "Class 1 total survivors\n",
      "sex\n",
      "female    1\n",
      "male      1\n",
      "dtype: int64\n"
     ]
    }
   ],
   "source": [
    "#class 1\n",
    "Class_1 = Class_groupby.get_group(1)\n",
    "print(\"Class 1 total passengers\")\n",
    "print(Class_1.groupby('sex').size())\n",
    "Class_1_total_female = Class_1.groupby('sex').size()[0]\n",
    "Class_1_total_male = Class_1.groupby('sex').size()[1]\n",
    "Class_1_survived = Class_1.groupby('survived').get_group(1)\n",
    "children_class_1_survived_sex = Class_1_survived.groupby('sex')\n",
    "print(\"Class 1 total survivors\")\n",
    "print(children_class_1_survived_sex.size())\n",
    "Class_1_total_female_survivors = children_class_1_survived_sex.size()[0]\n",
    "Class_1_total_male_survivors = children_class_1_survived_sex.size()[1]\n",
    "survival_percentage_female_class1_senior = (Class_1_total_female_survivors/Class_1_total_female)*100\n",
    "survival_percentage_male_class1_senior = (Class_1_total_male_survivors/Class_1_total_male)*100"
   ]
  },
  {
   "cell_type": "code",
   "execution_count": 119,
   "metadata": {},
   "outputs": [
    {
     "name": "stdout",
     "output_type": "stream",
     "text": [
      "Class 2 total passengers\n",
      "Total Female:  0\n",
      "Total male:  2\n",
      "Class 2 total survivors\n",
      "Total Female:  0\n",
      "Total male:  0\n"
     ]
    }
   ],
   "source": [
    "# Class 2\n",
    "Class_2 = Class_groupby.get_group(2)\n",
    "print(\"Class 2 total passengers\")\n",
    "Class_2_total_female = Class_2.loc[Class_2['sex']=='female']\n",
    "Class_2_total_male = Class_2.loc[Class_2['sex']=='male']\n",
    "print(\"Total Female: \", Class_2_total_female.shape[0])\n",
    "print(\"Total male: \", Class_2_total_male.shape[0])\n",
    "Class_2_survived = Class_2[Class_2['survived'] == 1]\n",
    "print(\"Class 2 total survivors\")\n",
    "Class_2_total_female_survivors = Class_2_survived.loc[Class_2_survived['sex']=='female']\n",
    "Class_2_total_male_survivors = Class_2_survived.loc[Class_2_survived['sex']=='male']\n",
    "print(\"Total Female: \", Class_2_total_female_survivors.shape[0])\n",
    "print(\"Total male: \", Class_2_total_male_survivors.shape[0])\n",
    "\n",
    "#As survivors are zero\n",
    "survival_percentage_female_class2_senior = 0\n",
    "survival_percentage_male_class2_senior = 0\n"
   ]
  },
  {
   "cell_type": "code",
   "execution_count": 120,
   "metadata": {},
   "outputs": [
    {
     "name": "stdout",
     "output_type": "stream",
     "text": [
      "Class 3 total passengers\n",
      "Total Female:  0\n",
      "Total male:  3\n",
      "Class 3 total survivors\n",
      "Total Female:  0\n",
      "Total male:  0\n"
     ]
    }
   ],
   "source": [
    "# Class 3\n",
    "Class_3 = Class_groupby.get_group(3)\n",
    "print(\"Class 3 total passengers\")\n",
    "Class_3_total_female = Class_3.loc[Class_3['sex']=='female']\n",
    "Class_3_total_male = Class_3.loc[Class_3['sex']=='male']\n",
    "print(\"Total Female: \", Class_3_total_female.shape[0])\n",
    "print(\"Total male: \", Class_3_total_male.shape[0])\n",
    "Class_3_survived = Class_3[Class_3['survived'] == 1]\n",
    "print(\"Class 3 total survivors\")\n",
    "Class_3_total_female_survivors = Class_3_survived.loc[Class_3_survived['sex']=='female']\n",
    "Class_3_total_male_survivors = Class_3_survived.loc[Class_3_survived['sex']=='male']\n",
    "print(\"Total Female: \", Class_3_total_female_survivors.shape[0])\n",
    "print(\"Total male: \", Class_3_total_male_survivors.shape[0])\n",
    "\n",
    "#As survivors are zero\n",
    "survival_percentage_female_class3_senior = 0\n",
    "survival_percentage_male_class3_senior = 0\n"
   ]
  },
  {
   "cell_type": "markdown",
   "metadata": {},
   "source": [
    "## Children Stats"
   ]
  },
  {
   "cell_type": "code",
   "execution_count": 121,
   "metadata": {},
   "outputs": [
    {
     "name": "stdout",
     "output_type": "stream",
     "text": [
      "Class 1\n",
      "Percentage of female passengers survived :  0.0 %\n",
      "Percentage of male passengers survived :  100.0 %\n",
      "\n",
      "\n",
      "Class 2\n",
      "Percentage of female passengers survived :  100.0 %\n",
      "Percentage of male passengers survived :  100.0 %\n",
      "\n",
      "\n",
      "Class 3\n",
      "Percentage of female passengers survived :  48.39 %\n",
      "Percentage of male passengers survived :  32.43 %\n"
     ]
    }
   ],
   "source": [
    "print(\"Class 1\")\n",
    "print(\"Percentage of female passengers survived : \", round(survival_percentage_female_class1_children,2),\"%\")\n",
    "print(\"Percentage of male passengers survived : \", round(survival_percentage_male_class1_children,2),\"%\")\n",
    "print(\"\\n\")\n",
    "print(\"Class 2\")\n",
    "print(\"Percentage of female passengers survived : \", round(survival_percentage_female_class2_children,2),\"%\")\n",
    "print(\"Percentage of male passengers survived : \", round(survival_percentage_male_class2_children,2),\"%\")\n",
    "print(\"\\n\")\n",
    "print(\"Class 3\")\n",
    "print(\"Percentage of female passengers survived : \", round(survival_percentage_female_class3_children,2),\"%\")\n",
    "print(\"Percentage of male passengers survived : \", round(survival_percentage_male_class3_children,2),\"%\")"
   ]
  },
  {
   "cell_type": "markdown",
   "metadata": {},
   "source": [
    "## Adolescent Stats"
   ]
  },
  {
   "cell_type": "code",
   "execution_count": 122,
   "metadata": {},
   "outputs": [
    {
     "name": "stdout",
     "output_type": "stream",
     "text": [
      "Class 1\n",
      "Percentage of female passengers survived :  100.0 %\n",
      "Percentage of male passengers survived :  20.0 %\n",
      "\n",
      "\n",
      "Class 2\n",
      "Percentage of female passengers survived :  92.31 %\n",
      "Percentage of male passengers survived :  11.76 %\n",
      "\n",
      "\n",
      "Class 3\n",
      "Percentage of female passengers survived :  54.29 %\n",
      "Percentage of male passengers survived :  12.5 %\n"
     ]
    }
   ],
   "source": [
    "print(\"Class 1\")\n",
    "print(\"Percentage of female passengers survived : \", round(survival_percentage_female_class1_adolescent,2),\"%\")\n",
    "print(\"Percentage of male passengers survived : \", round(survival_percentage_male_class1_adolescent,2),\"%\")\n",
    "print(\"\\n\")\n",
    "print(\"Class 2\")\n",
    "print(\"Percentage of female passengers survived : \", round(survival_percentage_female_class2_adolescent,2),\"%\")\n",
    "print(\"Percentage of male passengers survived : \", round(survival_percentage_male_class2_adolescent,2),\"%\")\n",
    "print(\"\\n\")\n",
    "print(\"Class 3\")\n",
    "print(\"Percentage of female passengers survived : \", round(survival_percentage_female_class3_adolescent,2),\"%\")\n",
    "print(\"Percentage of male passengers survived : \", round(survival_percentage_male_class3_adolescent,2),\"%\")"
   ]
  },
  {
   "cell_type": "markdown",
   "metadata": {},
   "source": [
    "## Adults Stats"
   ]
  },
  {
   "cell_type": "code",
   "execution_count": 123,
   "metadata": {},
   "outputs": [
    {
     "name": "stdout",
     "output_type": "stream",
     "text": [
      "Class 1\n",
      "Percentage of female passengers survived :  96.55 %\n",
      "Percentage of male passengers survived :  34.33 %\n",
      "\n",
      "\n",
      "Class 2\n",
      "Percentage of female passengers survived :  86.84 %\n",
      "Percentage of male passengers survived :  7.81 %\n",
      "\n",
      "\n",
      "Class 3\n",
      "Percentage of female passengers survived :  44.19 %\n",
      "Percentage of male passengers survived :  15.98 %\n"
     ]
    }
   ],
   "source": [
    "print(\"Class 1\")\n",
    "print(\"Percentage of female passengers survived : \", round(survival_percentage_female_class1_adult,2),\"%\")\n",
    "print(\"Percentage of male passengers survived : \", round(survival_percentage_male_class1_adult,2),\"%\")\n",
    "print(\"\\n\")\n",
    "print(\"Class 2\")\n",
    "print(\"Percentage of female passengers survived : \", round(survival_percentage_female_class2_adult,2),\"%\")\n",
    "print(\"Percentage of male passengers survived : \", round(survival_percentage_male_class2_adult,2),\"%\")\n",
    "print(\"\\n\")\n",
    "print(\"Class 3\")\n",
    "print(\"Percentage of female passengers survived : \", round(survival_percentage_female_class3_adult,2),\"%\")\n",
    "print(\"Percentage of male passengers survived : \", round(survival_percentage_male_class3_adult,2),\"%\")"
   ]
  },
  {
   "cell_type": "markdown",
   "metadata": {},
   "source": [
    "## Senior Stats"
   ]
  },
  {
   "cell_type": "code",
   "execution_count": 124,
   "metadata": {},
   "outputs": [
    {
     "name": "stdout",
     "output_type": "stream",
     "text": [
      "Class 1\n",
      "Percentage of female passengers survived :  100.0 %\n",
      "Percentage of male passengers survived :  14.29 %\n",
      "\n",
      "\n",
      "Class 2\n",
      "Percentage of female passengers survived :  0 %\n",
      "Percentage of male passengers survived :  0 %\n",
      "\n",
      "\n",
      "Class 3\n",
      "Percentage of female passengers survived :  0 %\n",
      "Percentage of male passengers survived :  0 %\n"
     ]
    }
   ],
   "source": [
    "print(\"Class 1\")\n",
    "print(\"Percentage of female passengers survived : \", round(survival_percentage_female_class1_senior,2),\"%\")\n",
    "print(\"Percentage of male passengers survived : \", round(survival_percentage_male_class1_senior,2),\"%\")\n",
    "print(\"\\n\")\n",
    "print(\"Class 2\")\n",
    "print(\"Percentage of female passengers survived : \", round(survival_percentage_female_class2_senior,2),\"%\")\n",
    "print(\"Percentage of male passengers survived : \", round(survival_percentage_male_class2_senior,2),\"%\")\n",
    "print(\"\\n\")\n",
    "print(\"Class 3\")\n",
    "print(\"Percentage of female passengers survived : \", round(survival_percentage_female_class3_senior,2),\"%\")\n",
    "print(\"Percentage of male passengers survived : \", round(survival_percentage_male_class3_senior,2),\"%\")"
   ]
  }
 ],
 "metadata": {
  "kernelspec": {
   "display_name": "Python 3 (ipykernel)",
   "language": "python",
   "name": "python3"
  },
  "language_info": {
   "codemirror_mode": {
    "name": "ipython",
    "version": 3
   },
   "file_extension": ".py",
   "mimetype": "text/x-python",
   "name": "python",
   "nbconvert_exporter": "python",
   "pygments_lexer": "ipython3",
   "version": "3.10.0"
  },
  "nteract": {
   "version": "0.28.0"
  }
 },
 "nbformat": 4,
 "nbformat_minor": 4
}
